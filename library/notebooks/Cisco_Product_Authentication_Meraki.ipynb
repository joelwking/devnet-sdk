{
 "cells": [
  {
   "cell_type": "markdown",
   "metadata": {},
   "source": [
    "Cisco Meraki uses a Bearer Token authentication which is enabled via the dashboard and copied.\n",
    "\n",
    "In this example, if you have your own API key, substitute it for the DevNet Meraki API key used below."
   ]
  },
  {
   "cell_type": "code",
   "execution_count": 1,
   "metadata": {},
   "outputs": [],
   "source": [
    "import requests\n",
    "\n",
    "API_KEY = '093b24e85df15a3e66f1fc359f4c48493eaa1b73'\n",
    "\n",
    "header = {\"Content-Type\": \"application/json\"}\n",
    "header[\"X-Cisco-Meraki-API-Key\"] = API_KEY"
   ]
  },
  {
   "cell_type": "markdown",
   "metadata": {},
   "source": [
    "Many of the API responses from Meraki contain the fields *id* and *name* - define a function to display these"
   ]
  },
  {
   "cell_type": "code",
   "execution_count": 2,
   "metadata": {},
   "outputs": [],
   "source": [
    "def get_id(data, fields=('id', 'name')):\n",
    "    values = []\n",
    "    for element in data:\n",
    "        values.append((element.get(fields[0]), element.get(fields[1])))  # Create a list of tuples\n",
    "        print(values[-1])                                                # Print the last entry\n",
    "    return values"
   ]
  },
  {
   "cell_type": "markdown",
   "metadata": {},
   "source": [
    "To verify we have a valid API key, issue the API call to return all the organizations for this key"
   ]
  },
  {
   "cell_type": "code",
   "execution_count": 3,
   "metadata": {},
   "outputs": [],
   "source": [
    "url = 'https://dashboard.meraki.com/'\n",
    "resource = '/api/v0/organizations'\n",
    "r = requests.get(f'{url}{resource}', headers=header)"
   ]
  },
  {
   "cell_type": "code",
   "execution_count": 4,
   "metadata": {},
   "outputs": [
    {
     "name": "stdout",
     "output_type": "stream",
     "text": [
      "('537758', 'Meraki Launchpad🚀')\n",
      "('549236', 'DevNet Sandbox')\n"
     ]
    }
   ],
   "source": [
    "if r.ok:\n",
    "    get_id(r.json())"
   ]
  },
  {
   "cell_type": "markdown",
   "metadata": {},
   "source": [
    "The cURL equalivalent is:\n",
    "```bash\n",
    "curl -v -L -X GET --url 'https://dashboard.meraki.com/api/v0/organizations'  -H 'Content-Type: application/json' -H 'X-Cisco-Meraki-API-Key:enteryourkeyhere'\n",
    "```\n",
    "Note the -L switch enables following redirects!\n",
    "\n",
    "The server issued a 307 Temporary Redirect and a 302 Found"
   ]
  },
  {
   "cell_type": "markdown",
   "metadata": {},
   "source": [
    "__3.3.a Use Meraki Dashboard APIs to enable an SSID__\n",
    "\n",
    "To enable an SSID you first must identify the target network and return the SSIDs for that network. Following that, for the SSID number you wish to enable, we issue a PUT with a playload to enable to disable the SSID."
   ]
  },
  {
   "cell_type": "code",
   "execution_count": 5,
   "metadata": {},
   "outputs": [],
   "source": [
    "resource = '/api/v0/organizations/{}/networks'.format(r.json()[0]['id'])   # Get the org ID of the first Org (as an example)"
   ]
  },
  {
   "cell_type": "code",
   "execution_count": 6,
   "metadata": {},
   "outputs": [
    {
     "data": {
      "text/plain": [
       "'/api/v0/organizations/537758/networks'"
      ]
     },
     "execution_count": 6,
     "metadata": {},
     "output_type": "execute_result"
    }
   ],
   "source": [
    "resource"
   ]
  },
  {
   "cell_type": "code",
   "execution_count": 7,
   "metadata": {},
   "outputs": [],
   "source": [
    "r = requests.get(f'{url}{resource}', headers=header)"
   ]
  },
  {
   "cell_type": "code",
   "execution_count": 8,
   "metadata": {},
   "outputs": [
    {
     "name": "stdout",
     "output_type": "stream",
     "text": [
      "('L_646829496481100388', 'San Francisco')\n",
      "('L_646829496481091801', 'Sydney')\n",
      "('L_646829496481087792', 'London')\n",
      "('N_646829496481093172', 'Teleworker John Smith')\n",
      "('L_646829496481098888', 'Datacenter-NA')\n",
      "('N_646829496481143649', 'Datacenter-NA-Concentrator')\n",
      "('N_646829496481143735', 'temp_net')\n",
      "('N_646829496481143883', 'Teleworker Yolanda Delcambre')\n",
      "('N_646829496481143884', 'Teleworker Maribel Perry')\n",
      "('N_646829496481146602', 'Datacenter-SA')\n",
      "('N_646829496481149212', 'Datacenter-CA')\n",
      "('L_646829496481102319', 'Chicago')\n",
      "('L_646829496481102320', 'Toronto')\n",
      "('L_646829496481103010', 'New York')\n",
      "('N_646829496481162193', 'San Jose')\n"
     ]
    }
   ],
   "source": [
    "if r.ok:\n",
    "   get_id(r.json()) "
   ]
  },
  {
   "cell_type": "code",
   "execution_count": 9,
   "metadata": {},
   "outputs": [],
   "source": [
    "resource = '/api/v0/networks/{}/ssids'.format(r.json()[0]['id'])  # Get the Network ID of the first network (as an example)"
   ]
  },
  {
   "cell_type": "code",
   "execution_count": 10,
   "metadata": {},
   "outputs": [],
   "source": [
    "r = requests.get(f'{url}{resource}', headers=header)"
   ]
  },
  {
   "cell_type": "code",
   "execution_count": 11,
   "metadata": {},
   "outputs": [
    {
     "data": {
      "text/plain": [
       "[{'number': 0,\n",
       "  'name': 'mCLOUD-CAMPUS-SFO-Corp',\n",
       "  'enabled': True,\n",
       "  'splashPage': 'None',\n",
       "  'ssidAdminAccessible': False,\n",
       "  'authMode': '8021x-meraki',\n",
       "  'encryptionMode': 'wpa-eap',\n",
       "  'wpaEncryptionMode': 'WPA1 and WPA2',\n",
       "  'ipAssignmentMode': 'Bridge mode',\n",
       "  'useVlanTagging': True,\n",
       "  'defaultVlanId': 10,\n",
       "  'minBitrate': 12,\n",
       "  'bandSelection': 'Dual band operation with Band Steering',\n",
       "  'perClientBandwidthLimitUp': 0,\n",
       "  'perClientBandwidthLimitDown': 0,\n",
       "  'lanIsolationEnabled': False,\n",
       "  'visible': True,\n",
       "  'availableOnAllAps': False,\n",
       "  'availabilityTags': ['corp_wifi']},\n",
       " {'number': 1,\n",
       "  'name': 'mCLOUD-CAMPUS-SFO-Guest',\n",
       "  'enabled': True,\n",
       "  'splashPage': 'Password-protected with Meraki RADIUS',\n",
       "  'ssidAdminAccessible': False,\n",
       "  'authMode': 'open',\n",
       "  'ipAssignmentMode': 'Bridge mode',\n",
       "  'useVlanTagging': True,\n",
       "  'defaultVlanId': 40,\n",
       "  'adminSplashUrl': '',\n",
       "  'splashTimeout': '1440 minutes',\n",
       "  'walledGardenEnabled': False,\n",
       "  'minBitrate': 12,\n",
       "  'bandSelection': 'Dual band operation with Band Steering',\n",
       "  'perClientBandwidthLimitUp': 2048,\n",
       "  'perClientBandwidthLimitDown': 2048,\n",
       "  'lanIsolationEnabled': False,\n",
       "  'visible': True,\n",
       "  'availableOnAllAps': False,\n",
       "  'availabilityTags': ['guest_wifi']},\n",
       " {'number': 2,\n",
       "  'name': 'mCLOUD-CAMPUS-SFO-Lobby',\n",
       "  'enabled': True,\n",
       "  'splashPage': 'Click-through splash page',\n",
       "  'ssidAdminAccessible': False,\n",
       "  'authMode': 'open',\n",
       "  'ipAssignmentMode': 'Bridge mode',\n",
       "  'useVlanTagging': True,\n",
       "  'defaultVlanId': 40,\n",
       "  'adminSplashUrl': None,\n",
       "  'splashTimeout': '1440 minutes',\n",
       "  'walledGardenEnabled': False,\n",
       "  'minBitrate': 1,\n",
       "  'bandSelection': 'Dual band operation',\n",
       "  'perClientBandwidthLimitUp': 5120,\n",
       "  'perClientBandwidthLimitDown': 5120,\n",
       "  'lanIsolationEnabled': False,\n",
       "  'visible': True,\n",
       "  'availableOnAllAps': False,\n",
       "  'availabilityTags': ['lobby']},\n",
       " {'number': 3,\n",
       "  'name': 'mCLOUD-CAMPUS-SFO-Mgmt',\n",
       "  'enabled': True,\n",
       "  'splashPage': 'None',\n",
       "  'ssidAdminAccessible': False,\n",
       "  'authMode': 'wpa12',\n",
       "  'ipAssignmentMode': 'Bridge mode',\n",
       "  'useVlanTagging': True,\n",
       "  'defaultVlanId': 10,\n",
       "  'minBitrate': 18,\n",
       "  'bandSelection': '5 GHz band only',\n",
       "  'perClientBandwidthLimitUp': 0,\n",
       "  'perClientBandwidthLimitDown': 0,\n",
       "  'lanIsolationEnabled': False,\n",
       "  'visible': True,\n",
       "  'availableOnAllAps': True,\n",
       "  'availabilityTags': []},\n",
       " {'number': 4,\n",
       "  'name': 'Meraki Champions',\n",
       "  'enabled': False,\n",
       "  'splashPage': 'Click-through splash page',\n",
       "  'ssidAdminAccessible': False,\n",
       "  'authMode': 'open',\n",
       "  'ipAssignmentMode': 'NAT mode',\n",
       "  'adminSplashUrl': '',\n",
       "  'splashTimeout': '10080 minutes',\n",
       "  'walledGardenEnabled': False,\n",
       "  'minBitrate': 1,\n",
       "  'bandSelection': 'Dual band operation with Band Steering',\n",
       "  'perClientBandwidthLimitUp': 0,\n",
       "  'perClientBandwidthLimitDown': 0,\n",
       "  'visible': True,\n",
       "  'availableOnAllAps': False,\n",
       "  'availabilityTags': ['masters-champions']},\n",
       " {'number': 5,\n",
       "  'name': 'Meraki Masters',\n",
       "  'enabled': False,\n",
       "  'splashPage': 'Click-through splash page',\n",
       "  'ssidAdminAccessible': False,\n",
       "  'authMode': 'open',\n",
       "  'ipAssignmentMode': 'Bridge mode',\n",
       "  'useVlanTagging': True,\n",
       "  'defaultVlanId': 40,\n",
       "  'adminSplashUrl': '',\n",
       "  'splashTimeout': '10080 minutes',\n",
       "  'walledGardenEnabled': False,\n",
       "  'minBitrate': 12,\n",
       "  'bandSelection': 'Dual band operation',\n",
       "  'perClientBandwidthLimitUp': 0,\n",
       "  'perClientBandwidthLimitDown': 0,\n",
       "  'lanIsolationEnabled': False,\n",
       "  'visible': True,\n",
       "  'availableOnAllAps': False,\n",
       "  'availabilityTags': ['lobby']},\n",
       " {'number': 6,\n",
       "  'name': 'mCLOUD-CAMPUS-SFO-BRIDGE',\n",
       "  'enabled': True,\n",
       "  'splashPage': 'None',\n",
       "  'ssidAdminAccessible': False,\n",
       "  'authMode': 'psk',\n",
       "  'psk': 'Meraki123!',\n",
       "  'encryptionMode': 'wpa',\n",
       "  'wpaEncryptionMode': 'WPA1 and WPA2',\n",
       "  'ipAssignmentMode': 'Bridge mode',\n",
       "  'useVlanTagging': True,\n",
       "  'defaultVlanId': 30,\n",
       "  'minBitrate': 1,\n",
       "  'bandSelection': 'Dual band operation',\n",
       "  'perClientBandwidthLimitUp': 0,\n",
       "  'perClientBandwidthLimitDown': 0,\n",
       "  'lanIsolationEnabled': False,\n",
       "  'visible': False,\n",
       "  'availableOnAllAps': False,\n",
       "  'availabilityTags': ['bridge']},\n",
       " {'number': 7,\n",
       "  'name': 'Unconf SSID8',\n",
       "  'enabled': False,\n",
       "  'splashPage': 'None',\n",
       "  'ssidAdminAccessible': False,\n",
       "  'authMode': 'open',\n",
       "  'ipAssignmentMode': 'NAT mode',\n",
       "  'minBitrate': None,\n",
       "  'bandSelection': 'Dual band operation',\n",
       "  'perClientBandwidthLimitUp': 0,\n",
       "  'perClientBandwidthLimitDown': 0,\n",
       "  'visible': True,\n",
       "  'availableOnAllAps': True,\n",
       "  'availabilityTags': []},\n",
       " {'number': 8,\n",
       "  'name': 'Unconfigured SSID 9',\n",
       "  'enabled': False,\n",
       "  'splashPage': 'None',\n",
       "  'ssidAdminAccessible': False,\n",
       "  'authMode': 'open',\n",
       "  'ipAssignmentMode': 'NAT mode',\n",
       "  'minBitrate': None,\n",
       "  'bandSelection': 'Dual band operation',\n",
       "  'perClientBandwidthLimitUp': 0,\n",
       "  'perClientBandwidthLimitDown': 0,\n",
       "  'visible': True,\n",
       "  'availableOnAllAps': True,\n",
       "  'availabilityTags': []},\n",
       " {'number': 9,\n",
       "  'name': 'Unconfigured SSID 10',\n",
       "  'enabled': False,\n",
       "  'splashPage': 'None',\n",
       "  'ssidAdminAccessible': False,\n",
       "  'authMode': 'open',\n",
       "  'ipAssignmentMode': 'NAT mode',\n",
       "  'minBitrate': None,\n",
       "  'bandSelection': 'Dual band operation',\n",
       "  'perClientBandwidthLimitUp': 0,\n",
       "  'perClientBandwidthLimitDown': 0,\n",
       "  'visible': True,\n",
       "  'availableOnAllAps': True,\n",
       "  'availabilityTags': []},\n",
       " {'number': 10,\n",
       "  'name': 'Unconfigured SSID 11',\n",
       "  'enabled': False,\n",
       "  'splashPage': 'None',\n",
       "  'ssidAdminAccessible': False,\n",
       "  'authMode': 'open',\n",
       "  'ipAssignmentMode': 'NAT mode',\n",
       "  'minBitrate': None,\n",
       "  'bandSelection': 'Dual band operation',\n",
       "  'perClientBandwidthLimitUp': 0,\n",
       "  'perClientBandwidthLimitDown': 0,\n",
       "  'visible': True,\n",
       "  'availableOnAllAps': True,\n",
       "  'availabilityTags': []},\n",
       " {'number': 11,\n",
       "  'name': 'Unconfigured SSID 12',\n",
       "  'enabled': False,\n",
       "  'splashPage': 'None',\n",
       "  'ssidAdminAccessible': False,\n",
       "  'authMode': 'open',\n",
       "  'ipAssignmentMode': 'NAT mode',\n",
       "  'minBitrate': None,\n",
       "  'bandSelection': 'Dual band operation',\n",
       "  'perClientBandwidthLimitUp': 0,\n",
       "  'perClientBandwidthLimitDown': 0,\n",
       "  'visible': True,\n",
       "  'availableOnAllAps': True,\n",
       "  'availabilityTags': []},\n",
       " {'number': 12,\n",
       "  'name': 'Unconfigured SSID 13',\n",
       "  'enabled': False,\n",
       "  'splashPage': 'None',\n",
       "  'ssidAdminAccessible': False,\n",
       "  'authMode': 'open',\n",
       "  'ipAssignmentMode': 'NAT mode',\n",
       "  'minBitrate': None,\n",
       "  'bandSelection': 'Dual band operation',\n",
       "  'perClientBandwidthLimitUp': 0,\n",
       "  'perClientBandwidthLimitDown': 0,\n",
       "  'visible': True,\n",
       "  'availableOnAllAps': True,\n",
       "  'availabilityTags': []},\n",
       " {'number': 13,\n",
       "  'name': 'Unconfigured SSID 14',\n",
       "  'enabled': False,\n",
       "  'splashPage': 'None',\n",
       "  'ssidAdminAccessible': False,\n",
       "  'authMode': 'open',\n",
       "  'ipAssignmentMode': 'NAT mode',\n",
       "  'minBitrate': None,\n",
       "  'bandSelection': 'Dual band operation',\n",
       "  'perClientBandwidthLimitUp': 0,\n",
       "  'perClientBandwidthLimitDown': 0,\n",
       "  'visible': True,\n",
       "  'availableOnAllAps': True,\n",
       "  'availabilityTags': []},\n",
       " {'number': 14,\n",
       "  'name': 'Unconfigured SSID 15',\n",
       "  'enabled': False,\n",
       "  'splashPage': 'None',\n",
       "  'ssidAdminAccessible': False,\n",
       "  'authMode': 'open',\n",
       "  'ipAssignmentMode': 'NAT mode',\n",
       "  'minBitrate': None,\n",
       "  'bandSelection': 'Dual band operation',\n",
       "  'perClientBandwidthLimitUp': 0,\n",
       "  'perClientBandwidthLimitDown': 0,\n",
       "  'visible': True,\n",
       "  'availableOnAllAps': True,\n",
       "  'availabilityTags': []}]"
      ]
     },
     "execution_count": 11,
     "metadata": {},
     "output_type": "execute_result"
    }
   ],
   "source": [
    "r.json()"
   ]
  },
  {
   "cell_type": "code",
   "execution_count": 12,
   "metadata": {},
   "outputs": [
    {
     "data": {
      "text/plain": [
       "'/api/v0/networks/L_646829496481100388/ssids'"
      ]
     },
     "execution_count": 12,
     "metadata": {},
     "output_type": "execute_result"
    }
   ],
   "source": [
    "resource"
   ]
  },
  {
   "cell_type": "code",
   "execution_count": 13,
   "metadata": {},
   "outputs": [
    {
     "name": "stdout",
     "output_type": "stream",
     "text": [
      "/api/v0/networks/L_646829496481100388/ssids/1\n"
     ]
    }
   ],
   "source": [
    "import json\n",
    "print(f'{resource}/1')        # Enable SSID number 1 (as an example)\n",
    "data =  {u'enabled': True}\n",
    "r = requests.put(f'{url}{resource}/1', headers=header, data=json.dumps(data))"
   ]
  },
  {
   "cell_type": "code",
   "execution_count": 14,
   "metadata": {},
   "outputs": [
    {
     "name": "stdout",
     "output_type": "stream",
     "text": [
      "403  \n"
     ]
    }
   ],
   "source": [
    "print(r.status_code, r.text)"
   ]
  },
  {
   "cell_type": "markdown",
   "metadata": {},
   "source": [
    "If you receive a `403` error, you didn't substitute an API key with the Read Only key for the DevNet Meraki sandbox.\n",
    "\n",
    "The HTTP `403` Forbidden client error status response code indicates that the server understood the request but refuses to authorize it."
   ]
  },
  {
   "cell_type": "code",
   "execution_count": null,
   "metadata": {},
   "outputs": [],
   "source": []
  }
 ],
 "metadata": {
  "kernelspec": {
   "display_name": "Python 3",
   "language": "python",
   "name": "python3"
  },
  "language_info": {
   "codemirror_mode": {
    "name": "ipython",
    "version": 3
   },
   "file_extension": ".py",
   "mimetype": "text/x-python",
   "name": "python",
   "nbconvert_exporter": "python",
   "pygments_lexer": "ipython3",
   "version": "3.6.9"
  }
 },
 "nbformat": 4,
 "nbformat_minor": 4
}
