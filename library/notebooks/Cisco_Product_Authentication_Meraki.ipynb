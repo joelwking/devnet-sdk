{
 "cells": [
  {
   "cell_type": "markdown",
   "metadata": {},
   "source": [
    "Cisco Meraki uses a Bearer Token authentication which is enabled via the dashboard and copied.\n",
    "\n",
    "In this example, if you have your own API key, substitute it for the DevNet Meraki API key used below."
   ]
  },
  {
   "cell_type": "code",
   "execution_count": 22,
   "metadata": {},
   "outputs": [],
   "source": [
    "import requests\n",
    "\n",
    "API_KEY = '6bec40cf957de430a6f1f2baa056b99a4fac9ea0'\n",
    "\n",
    "header = {\"Content-Type\": \"application/json\"}\n",
    "header[\"X-Cisco-Meraki-API-Key\"] = API_KEY"
   ]
  },
  {
   "cell_type": "markdown",
   "metadata": {},
   "source": [
    "Many of the API responses from Meraki contain the fields *id* and *name* - define a function to display these"
   ]
  },
  {
   "cell_type": "code",
   "execution_count": 23,
   "metadata": {},
   "outputs": [],
   "source": [
    "def get_id(data, fields=('id', 'name')):\n",
    "    values = []\n",
    "    for element in data:\n",
    "        values.append((element.get(fields[0]), element.get(fields[1])))  # Create a list of tuples\n",
    "        print(values[-1])                                                # Print the last entry\n",
    "    return values"
   ]
  },
  {
   "cell_type": "markdown",
   "metadata": {},
   "source": [
    "To verify we have a valid API key, issue the API call to return all the organizations for this key"
   ]
  },
  {
   "cell_type": "code",
   "execution_count": 24,
   "metadata": {},
   "outputs": [],
   "source": [
    "url = 'https://dashboard.meraki.com/'\n",
    "resource = '/api/v0/organizations'\n",
    "r = requests.get(f'{url}{resource}', headers=header)"
   ]
  },
  {
   "cell_type": "code",
   "execution_count": 25,
   "metadata": {},
   "outputs": [
    {
     "name": "stdout",
     "output_type": "stream",
     "text": [
      "('681155', 'DeLab')\n",
      "('575334852396583259', 'Demo Organization')\n",
      "('575334852396583255', 'My organization')\n",
      "('575334852396583252', 'yanchen0531')\n",
      "('575334852396583251', 'yanchennewwww')\n",
      "('575334852396583247', 'FBECK-TEST')\n",
      "('575334852396583246', 'FBECK-TEST')\n",
      "('575334852396583244', 'FBECK-TEST')\n",
      "('575334852396583243', 'Test')\n",
      "('575334852396583242', 'My organization')\n",
      "('575334852396583241', 'My organi')\n",
      "('575334852396583240', 'My organization')\n",
      "('575334852396583237', 'Xorg')\n",
      "('575334852396583231', 'SWTest')\n",
      "('575334852396583228', 'My organization')\n",
      "('575334852396583227', 'My organization')\n",
      "('575334852396583223', 'EvilCorp')\n",
      "('575334852396583220', 'My organization')\n",
      "('575334852396583219', 'BibbyTest')\n",
      "('575334852396583218', 'My organization')\n",
      "('575334852396583213', '\"New Network\"')\n",
      "('575334852396583212', 'My organization')\n",
      "('575334852396583211', 'My organization')\n",
      "('575334852396583210', 'My organization')\n",
      "('575334852396583209', 'My organization')\n",
      "('575334852396583208', 'BearHoleComputing')\n",
      "('575334852396583207', 'My organization')\n",
      "('575334852396583206', 'My organization')\n",
      "('575334852396583205', 'My organization')\n",
      "('575334852396583204', 'My organization')\n",
      "('575334852396583203', 'My organization')\n",
      "('575334852396583202', 'My organization')\n",
      "('575334852396583201', 'My organization')\n",
      "('575334852396583200', 'My organization')\n",
      "('575334852396583199', 'BT Germany')\n",
      "('575334852396583198', 'GigaSchool_PS_Lab')\n",
      "('573083052582914233', 'Test_org')\n",
      "('575334852396583197', 'The New Org')\n",
      "('575334852396583158', 'Testlab')\n",
      "('575334852396583157', 'My organization')\n",
      "('575334852396583155', 'My organization')\n",
      "('575334852396583153', 'Meraki Test Org')\n",
      "('575334852396583151', 'DevnetIT')\n",
      "('575334852396583149', 'g1xOrgTst')\n",
      "('575334852396583148', 'Mygl')\n",
      "('575334852396583147', 'My organization')\n",
      "('575334852396583146', 'My organization')\n",
      "('575334852396583134', 'Wotan')\n",
      "('575334852396583133', 'test-test')\n",
      "('575334852396583131', 'thienbao')\n",
      "('575334852396583130', 'thienbao')\n",
      "('575334852396583129', 'thienbao')\n",
      "('575334852396583128', 'trungheo')\n",
      "('575334852396583127', 'trungheo123')\n",
      "('575334852396583094', 'hutechdaihoccongnghe')\n",
      "('575334852396583093', 'The Org')\n",
      "('575334852396583091', 'My organization')\n",
      "('575334852396583090', 'minhtrung')\n",
      "('575334852396583089', 'nam')\n",
      "('575334852396583088', 'trung')\n",
      "('575334852396583087', 'trung123')\n",
      "('575334852396583086', 'hutech123')\n",
      "('575334852396583080', 'Meraki Launchpad')\n",
      "('575334852396583079', 'Raygunn Networks')\n",
      "('575334852396583078', 'Meraki Launchpad')\n",
      "('575334852396583074', 'est_My_Organization')\n",
      "('575334852396583073', 'ghwerty')\n",
      "('575334852396583071', 'PM_Test')\n",
      "('575334852396583070', 'My organization')\n",
      "('575334852396583068', 'Testing123')\n",
      "('575334852396583066', 'My organization')\n",
      "('575334852396583064', 'My organization')\n",
      "('575334852396583065', 'My organization')\n",
      "('575334852396583063', 'My organization')\n",
      "('575334852396583062', 'Charanya CX labs')\n",
      "('575334852396583056', 'My organization')\n",
      "('575334852396583051', 'trung')\n",
      "('575334852396583031', 'My organization')\n",
      "('575334852396582986', 'DevNet Test Org')\n",
      "('575334852396582973', 'DevNet Test Org')\n",
      "('575334852396582756', 'Personal.Lekhnath')\n",
      "('575334852396582755', 'My organization')\n",
      "('575334852396582738', 'My organization')\n",
      "('575334852396582684', 'SVR')\n",
      "('566327653141842188', 'DevNetAssoc')\n",
      "('575334852396582591', 'Ftreqah organization')\n",
      "('549236', 'DevNet Sandbox')\n",
      "('52636', 'Forest City - Other')\n",
      "('865776', 'Cisco Live US 2019')\n",
      "('463308', 'DevNet San Jose')\n"
     ]
    }
   ],
   "source": [
    "if r.ok:\n",
    "    get_id(r.json())\n",
    "else:\n",
    "    print(f'{r.status_code}')"
   ]
  },
  {
   "cell_type": "markdown",
   "metadata": {},
   "source": [
    "The cURL equalivalent is:\n",
    "```bash\n",
    "curl -v -L -X GET --url 'https://dashboard.meraki.com/api/v0/organizations'  -H 'Content-Type: application/json' -H 'X-Cisco-Meraki-API-Key:enteryourkeyhere'\n",
    "```\n",
    "Note the -L switch enables following redirects!\n",
    "\n",
    "The server issued a 307 Temporary Redirect and a 302 Found"
   ]
  },
  {
   "cell_type": "markdown",
   "metadata": {},
   "source": [
    "__3.3.a Use Meraki Dashboard APIs to enable an SSID__\n",
    "\n",
    "To enable an SSID you first must identify the target network and return the SSIDs for that network. Following that, for the SSID number you wish to enable, we issue a PUT with a playload to enable to disable the SSID."
   ]
  },
  {
   "cell_type": "code",
   "execution_count": 26,
   "metadata": {},
   "outputs": [],
   "source": [
    "resource = '/api/v0/organizations/{}/networks'.format(r.json()[0]['id'])   # Get the org ID of the first Org (as an example)"
   ]
  },
  {
   "cell_type": "code",
   "execution_count": 27,
   "metadata": {},
   "outputs": [
    {
     "data": {
      "text/plain": [
       "'/api/v0/organizations/681155/networks'"
      ]
     },
     "execution_count": 27,
     "metadata": {},
     "output_type": "execute_result"
    }
   ],
   "source": [
    "resource"
   ]
  },
  {
   "cell_type": "code",
   "execution_count": 28,
   "metadata": {},
   "outputs": [],
   "source": [
    "r = requests.get(f'{url}{resource}', headers=header)"
   ]
  },
  {
   "cell_type": "code",
   "execution_count": 29,
   "metadata": {},
   "outputs": [
    {
     "name": "stdout",
     "output_type": "stream",
     "text": [
      "('L_566327653141843049', 'Lyoli')\n",
      "('L_566327653141846927', 'Vegas Apartment')\n",
      "('N_566327653141899127', 'Nolan')\n",
      "('N_566327653141902646', 'Lyoli MDM')\n",
      "('L_566327653141856854', 'My network')\n",
      "('L_783626335162466320', 'DevNetLab')\n",
      "('L_783626335162466514', 'DevNetLab2')\n",
      "('L_783626335162466515', 'DevNetLab3')\n"
     ]
    }
   ],
   "source": [
    "if r.ok:\n",
    "    get_id(r.json())\n",
    "else:\n",
    "    print(f'{r.status_code}')"
   ]
  },
  {
   "cell_type": "code",
   "execution_count": 30,
   "metadata": {},
   "outputs": [],
   "source": [
    "resource = '/api/v0/networks/{}/ssids'.format(r.json()[0]['id'])  # Get the Network ID of the first network (as an example)"
   ]
  },
  {
   "cell_type": "code",
   "execution_count": 31,
   "metadata": {},
   "outputs": [],
   "source": [
    "r = requests.get(f'{url}{resource}', headers=header)"
   ]
  },
  {
   "cell_type": "code",
   "execution_count": 32,
   "metadata": {},
   "outputs": [
    {
     "data": {
      "text/plain": [
       "[{'number': 0,\n",
       "  'name': 'Lyoli',\n",
       "  'enabled': True,\n",
       "  'splashPage': 'None',\n",
       "  'ssidAdminAccessible': False,\n",
       "  'authMode': 'psk',\n",
       "  'psk': 'Tac0s7426P1zza',\n",
       "  'encryptionMode': 'wpa',\n",
       "  'wpaEncryptionMode': 'WPA1 and WPA2',\n",
       "  'ipAssignmentMode': 'Bridge mode',\n",
       "  'useVlanTagging': False,\n",
       "  'minBitrate': 11,\n",
       "  'bandSelection': 'Dual band operation',\n",
       "  'perClientBandwidthLimitUp': 0,\n",
       "  'perClientBandwidthLimitDown': 0,\n",
       "  'lanIsolationEnabled': False,\n",
       "  'visible': True,\n",
       "  'availableOnAllAps': True,\n",
       "  'availabilityTags': []},\n",
       " {'number': 1,\n",
       "  'name': 'Lyoli Outdoor',\n",
       "  'enabled': False,\n",
       "  'splashPage': 'None',\n",
       "  'ssidAdminAccessible': False,\n",
       "  'authMode': 'psk',\n",
       "  'psk': 'Tac0s7426P1zza',\n",
       "  'encryptionMode': 'wpa',\n",
       "  'wpaEncryptionMode': 'WPA1 and WPA2',\n",
       "  'ipAssignmentMode': 'Bridge mode',\n",
       "  'useVlanTagging': False,\n",
       "  'minBitrate': 11,\n",
       "  'bandSelection': 'Dual band operation',\n",
       "  'perClientBandwidthLimitUp': 0,\n",
       "  'perClientBandwidthLimitDown': 0,\n",
       "  'lanIsolationEnabled': False,\n",
       "  'visible': True,\n",
       "  'availableOnAllAps': True,\n",
       "  'availabilityTags': []},\n",
       " {'number': 2,\n",
       "  'name': 'Captive Portal Demo',\n",
       "  'enabled': False,\n",
       "  'splashPage': 'Click-through splash page',\n",
       "  'ssidAdminAccessible': False,\n",
       "  'authMode': 'psk',\n",
       "  'psk': 'waytogodevs',\n",
       "  'encryptionMode': 'wpa',\n",
       "  'wpaEncryptionMode': 'WPA2 only',\n",
       "  'ipAssignmentMode': 'Bridge mode',\n",
       "  'useVlanTagging': False,\n",
       "  'adminSplashUrl': 'https://afddd0244900.ngrok.io/click',\n",
       "  'splashTimeout': '30 minutes',\n",
       "  'walledGardenEnabled': True,\n",
       "  'walledGardenRanges': '*.ngrok.io',\n",
       "  'minBitrate': 11,\n",
       "  'bandSelection': '5 GHz band only',\n",
       "  'perClientBandwidthLimitUp': 0,\n",
       "  'perClientBandwidthLimitDown': 0,\n",
       "  'lanIsolationEnabled': False,\n",
       "  'visible': True,\n",
       "  'availableOnAllAps': True,\n",
       "  'availabilityTags': []},\n",
       " {'number': 3,\n",
       "  'name': 'KTV',\n",
       "  'enabled': True,\n",
       "  'splashPage': 'None',\n",
       "  'ssidAdminAccessible': False,\n",
       "  'authMode': 'psk',\n",
       "  'psk': 'boomshakalaka',\n",
       "  'encryptionMode': 'wpa',\n",
       "  'wpaEncryptionMode': 'WPA2 only',\n",
       "  'ipAssignmentMode': 'Bridge mode',\n",
       "  'useVlanTagging': False,\n",
       "  'minBitrate': 11,\n",
       "  'bandSelection': 'Dual band operation',\n",
       "  'perClientBandwidthLimitUp': 0,\n",
       "  'perClientBandwidthLimitDown': 0,\n",
       "  'lanIsolationEnabled': False,\n",
       "  'visible': False,\n",
       "  'availableOnAllAps': False,\n",
       "  'availabilityTags': ['ktv']},\n",
       " {'number': 4,\n",
       "  'name': 'LTV',\n",
       "  'enabled': True,\n",
       "  'splashPage': 'None',\n",
       "  'ssidAdminAccessible': False,\n",
       "  'authMode': 'psk',\n",
       "  'psk': 'tvconnect',\n",
       "  'encryptionMode': 'wpa',\n",
       "  'wpaEncryptionMode': 'WPA1 and WPA2',\n",
       "  'ipAssignmentMode': 'Bridge mode',\n",
       "  'useVlanTagging': False,\n",
       "  'minBitrate': 1,\n",
       "  'bandSelection': 'Dual band operation',\n",
       "  'perClientBandwidthLimitUp': 0,\n",
       "  'perClientBandwidthLimitDown': 0,\n",
       "  'lanIsolationEnabled': False,\n",
       "  'visible': False,\n",
       "  'availableOnAllAps': False,\n",
       "  'availabilityTags': ['ltv']},\n",
       " {'number': 5,\n",
       "  'name': 'testv',\n",
       "  'enabled': False,\n",
       "  'splashPage': 'None',\n",
       "  'ssidAdminAccessible': False,\n",
       "  'authMode': 'open',\n",
       "  'ipAssignmentMode': 'NAT mode',\n",
       "  'minBitrate': 11,\n",
       "  'bandSelection': 'Dual band operation',\n",
       "  'perClientBandwidthLimitUp': 0,\n",
       "  'perClientBandwidthLimitDown': 0,\n",
       "  'visible': True,\n",
       "  'availableOnAllAps': True,\n",
       "  'availabilityTags': []},\n",
       " {'number': 6,\n",
       "  'name': 'Unconfigured SSID 7',\n",
       "  'enabled': False,\n",
       "  'splashPage': 'None',\n",
       "  'ssidAdminAccessible': False,\n",
       "  'authMode': 'open',\n",
       "  'ipAssignmentMode': 'NAT mode',\n",
       "  'minBitrate': 11,\n",
       "  'bandSelection': 'Dual band operation',\n",
       "  'perClientBandwidthLimitUp': 0,\n",
       "  'perClientBandwidthLimitDown': 0,\n",
       "  'visible': True,\n",
       "  'availableOnAllAps': True,\n",
       "  'availabilityTags': []},\n",
       " {'number': 7,\n",
       "  'name': 'Unconfigured SSID 8',\n",
       "  'enabled': False,\n",
       "  'splashPage': 'None',\n",
       "  'ssidAdminAccessible': False,\n",
       "  'authMode': 'open',\n",
       "  'ipAssignmentMode': 'NAT mode',\n",
       "  'minBitrate': 11,\n",
       "  'bandSelection': 'Dual band operation',\n",
       "  'perClientBandwidthLimitUp': 0,\n",
       "  'perClientBandwidthLimitDown': 0,\n",
       "  'visible': True,\n",
       "  'availableOnAllAps': True,\n",
       "  'availabilityTags': []},\n",
       " {'number': 8,\n",
       "  'name': 'Unconfigured SSID 9',\n",
       "  'enabled': False,\n",
       "  'splashPage': 'None',\n",
       "  'ssidAdminAccessible': False,\n",
       "  'authMode': 'open',\n",
       "  'ipAssignmentMode': 'NAT mode',\n",
       "  'minBitrate': 11,\n",
       "  'bandSelection': 'Dual band operation',\n",
       "  'perClientBandwidthLimitUp': 0,\n",
       "  'perClientBandwidthLimitDown': 0,\n",
       "  'visible': True,\n",
       "  'availableOnAllAps': True,\n",
       "  'availabilityTags': []},\n",
       " {'number': 9,\n",
       "  'name': 'Unconfigured SSID 10',\n",
       "  'enabled': False,\n",
       "  'splashPage': 'None',\n",
       "  'ssidAdminAccessible': False,\n",
       "  'authMode': 'open',\n",
       "  'ipAssignmentMode': 'NAT mode',\n",
       "  'minBitrate': 11,\n",
       "  'bandSelection': 'Dual band operation',\n",
       "  'perClientBandwidthLimitUp': 0,\n",
       "  'perClientBandwidthLimitDown': 0,\n",
       "  'visible': True,\n",
       "  'availableOnAllAps': True,\n",
       "  'availabilityTags': []},\n",
       " {'number': 10,\n",
       "  'name': 'Unconfigured SSID 11',\n",
       "  'enabled': False,\n",
       "  'splashPage': 'None',\n",
       "  'ssidAdminAccessible': False,\n",
       "  'authMode': 'open',\n",
       "  'ipAssignmentMode': 'NAT mode',\n",
       "  'minBitrate': 11,\n",
       "  'bandSelection': 'Dual band operation',\n",
       "  'perClientBandwidthLimitUp': 0,\n",
       "  'perClientBandwidthLimitDown': 0,\n",
       "  'visible': True,\n",
       "  'availableOnAllAps': True,\n",
       "  'availabilityTags': []},\n",
       " {'number': 11,\n",
       "  'name': 'Unconfigured SSID 12',\n",
       "  'enabled': False,\n",
       "  'splashPage': 'None',\n",
       "  'ssidAdminAccessible': False,\n",
       "  'authMode': 'open',\n",
       "  'ipAssignmentMode': 'NAT mode',\n",
       "  'minBitrate': 11,\n",
       "  'bandSelection': 'Dual band operation',\n",
       "  'perClientBandwidthLimitUp': 0,\n",
       "  'perClientBandwidthLimitDown': 0,\n",
       "  'visible': True,\n",
       "  'availableOnAllAps': True,\n",
       "  'availabilityTags': []},\n",
       " {'number': 12,\n",
       "  'name': 'Unconfigured SSID 13',\n",
       "  'enabled': False,\n",
       "  'splashPage': 'None',\n",
       "  'ssidAdminAccessible': False,\n",
       "  'authMode': 'open',\n",
       "  'ipAssignmentMode': 'NAT mode',\n",
       "  'minBitrate': 11,\n",
       "  'bandSelection': 'Dual band operation',\n",
       "  'perClientBandwidthLimitUp': 0,\n",
       "  'perClientBandwidthLimitDown': 0,\n",
       "  'visible': True,\n",
       "  'availableOnAllAps': True,\n",
       "  'availabilityTags': []},\n",
       " {'number': 13,\n",
       "  'name': 'Unconfigured SSID 14',\n",
       "  'enabled': False,\n",
       "  'splashPage': 'None',\n",
       "  'ssidAdminAccessible': False,\n",
       "  'authMode': 'open',\n",
       "  'ipAssignmentMode': 'NAT mode',\n",
       "  'minBitrate': 11,\n",
       "  'bandSelection': 'Dual band operation',\n",
       "  'perClientBandwidthLimitUp': 0,\n",
       "  'perClientBandwidthLimitDown': 0,\n",
       "  'visible': True,\n",
       "  'availableOnAllAps': True,\n",
       "  'availabilityTags': []},\n",
       " {'number': 14,\n",
       "  'name': 'Unconfigured SSID 15',\n",
       "  'enabled': False,\n",
       "  'splashPage': 'None',\n",
       "  'ssidAdminAccessible': False,\n",
       "  'authMode': 'open',\n",
       "  'ipAssignmentMode': 'NAT mode',\n",
       "  'minBitrate': 11,\n",
       "  'bandSelection': 'Dual band operation',\n",
       "  'perClientBandwidthLimitUp': 0,\n",
       "  'perClientBandwidthLimitDown': 0,\n",
       "  'visible': True,\n",
       "  'availableOnAllAps': True,\n",
       "  'availabilityTags': []}]"
      ]
     },
     "execution_count": 32,
     "metadata": {},
     "output_type": "execute_result"
    }
   ],
   "source": [
    "r.json()"
   ]
  },
  {
   "cell_type": "code",
   "execution_count": 33,
   "metadata": {},
   "outputs": [
    {
     "data": {
      "text/plain": [
       "'/api/v0/networks/L_566327653141843049/ssids'"
      ]
     },
     "execution_count": 33,
     "metadata": {},
     "output_type": "execute_result"
    }
   ],
   "source": [
    "resource"
   ]
  },
  {
   "cell_type": "code",
   "execution_count": 34,
   "metadata": {},
   "outputs": [
    {
     "name": "stdout",
     "output_type": "stream",
     "text": [
      "/api/v0/networks/L_566327653141843049/ssids/1\n"
     ]
    }
   ],
   "source": [
    "import json\n",
    "print(f'{resource}/1')        # Enable SSID number 1 (as an example)\n",
    "data =  {u'enabled': True}\n",
    "r = requests.put(f'{url}{resource}/1', headers=header, data=json.dumps(data))"
   ]
  },
  {
   "cell_type": "code",
   "execution_count": 35,
   "metadata": {},
   "outputs": [
    {
     "name": "stdout",
     "output_type": "stream",
     "text": [
      "403  \n"
     ]
    }
   ],
   "source": [
    "print(r.status_code, r.text)"
   ]
  },
  {
   "cell_type": "markdown",
   "metadata": {},
   "source": [
    "If you receive a `403` error, you didn't substitute an API key with the Read Only key for the DevNet Meraki sandbox.\n",
    "\n",
    "The HTTP `403` Forbidden client error status response code indicates that the server understood the request but refuses to authorize it."
   ]
  },
  {
   "cell_type": "code",
   "execution_count": null,
   "metadata": {},
   "outputs": [],
   "source": []
  }
 ],
 "metadata": {
  "kernelspec": {
   "display_name": "Python 3",
   "language": "python",
   "name": "python3"
  },
  "language_info": {
   "codemirror_mode": {
    "name": "ipython",
    "version": 3
   },
   "file_extension": ".py",
   "mimetype": "text/x-python",
   "name": "python",
   "nbconvert_exporter": "python",
   "pygments_lexer": "ipython3",
   "version": "3.8.10"
  }
 },
 "nbformat": 4,
 "nbformat_minor": 4
}
