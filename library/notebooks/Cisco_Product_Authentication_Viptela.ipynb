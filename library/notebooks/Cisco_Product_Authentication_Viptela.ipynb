{
 "cells": [
  {
   "cell_type": "markdown",
   "metadata": {},
   "source": [
    "**Cisco_Product_Authentication_Viptela**\n",
    "\n",
    "The Cisco SD-WAN solution was acquired from Viptela, their name for the Network Management Server is *vManage*.\n",
    "\n",
    "The vManage API uses Basic Authentication, returning a cookie for authentication of subsequent API calls.\n",
    "\n",
    "The API documentation can be access from the host running vManage, substitute the IP address of your vManage host for the address shown: https://10.254.139.136/apidocs/\n",
    "\n",
    "The product documenation guide is also available: [API vManage REST API Overview](https://sdwan-docs.cisco.com/Product_Documentation/Command_Reference/Command_Reference/vManage_REST_APIs/vManage_REST_APIs_Overview/Using_the_vManage_REST_APIs)"
   ]
  },
  {
   "cell_type": "code",
   "execution_count": 1,
   "metadata": {},
   "outputs": [],
   "source": [
    "import requests\n",
    "import json\n",
    "import pprint\n",
    "from requests.packages.urllib3.exceptions import InsecureRequestWarning\n",
    "requests.packages.urllib3.disable_warnings(InsecureRequestWarning)"
   ]
  },
  {
   "cell_type": "markdown",
   "metadata": {},
   "source": [
    "To authenticate with the vManage, specify the host, port, username and password."
   ]
  },
  {
   "cell_type": "code",
   "execution_count": 12,
   "metadata": {},
   "outputs": [],
   "source": [
    "hostname = '10.254.139.136:443'         # This is a WWT ATC Instance, the address is not reachable from the Internet\n",
    "username = 'demo_user'\n",
    "password = 'CHANGME'                    # typical WWT password"
   ]
  },
  {
   "cell_type": "markdown",
   "metadata": {},
   "source": [
    "To Login to vManage, the resource is `/j_security_check`. The username and password are specified in the body of the request."
   ]
  },
  {
   "cell_type": "code",
   "execution_count": 21,
   "metadata": {},
   "outputs": [],
   "source": [
    "url = 'https://{}/j_security_check'.format(hostname)\n",
    "data = {'j_username' : username, \n",
    "        'j_password' : password}"
   ]
  },
  {
   "cell_type": "markdown",
   "metadata": {},
   "source": [
    "Requests Session Object is an advanced feature of Requests.\n",
    "\n",
    "[Session Objects](https://2.python-requests.org/en/master/user/advanced/#session-objects)\n",
    ">*The Session object allows you to persist certain parameters across requests. It also persists cookies across all requests made from the Session instance ...*\n",
    "\n",
    "First create a Requests session object, then issue a `POST` request using that session object,"
   ]
  },
  {
   "cell_type": "code",
   "execution_count": 15,
   "metadata": {},
   "outputs": [],
   "source": [
    "s = requests.session()\n",
    "login = s.post(url=url, data=data, verify=False)"
   ]
  },
  {
   "cell_type": "markdown",
   "metadata": {},
   "source": [
    "Examine the returned object from Requests, check the `status_code` and `content`."
   ]
  },
  {
   "cell_type": "code",
   "execution_count": 19,
   "metadata": {
    "scrolled": true
   },
   "outputs": [],
   "source": [
    "print(login.status_code, login.content)\n",
    "# 200 ''"
   ]
  },
  {
   "cell_type": "markdown",
   "metadata": {},
   "source": [
    "By examining the session object, note the cookie from the session is stored for subsequent API calls."
   ]
  },
  {
   "cell_type": "code",
   "execution_count": 20,
   "metadata": {},
   "outputs": [],
   "source": [
    "pprint.pprint(s.cookies)\n",
    "# <RequestsCookieJar[Cookie(version=0, name='JSESSIONID', value='WWZnX59IHR-BY3MfZ58cBSs4uzX7DD5SxrEMAI7O.e74b4f73-34ec-46ae-ab04-1dc617d8de81', \n",
    "# port=None, port_specified=False, domain='10.254.139.136', domain_specified=False, domain_initial_dot=False, path='/', path_specified=True, secure=True, expires=None, discard=True, comment=None, comment_url=None, rest={'HttpOnly': None}, rfc2109=False)]>"
   ]
  },
  {
   "cell_type": "markdown",
   "metadata": {},
   "source": [
    "To issue subsequent API calls, use the session object. In this example, return a list of devices."
   ]
  },
  {
   "cell_type": "code",
   "execution_count": null,
   "metadata": {},
   "outputs": [],
   "source": [
    "r =  s.get('https://{}/dataservice/newssh/devices'.format(hostname), verify=False)"
   ]
  },
  {
   "cell_type": "markdown",
   "metadata": {},
   "source": [
    "Examine the `status_code` and if successful, the data returned from the API call."
   ]
  },
  {
   "cell_type": "code",
   "execution_count": null,
   "metadata": {},
   "outputs": [],
   "source": [
    "print(r.status_code)\n",
    "pprint.pprint(r.json())"
   ]
  },
  {
   "cell_type": "markdown",
   "metadata": {},
   "source": [
    "The wraper used by vManage is `data`, which contains a list of devices."
   ]
  },
  {
   "cell_type": "code",
   "execution_count": null,
   "metadata": {},
   "outputs": [],
   "source": [
    "pprint.pprint(r.json()['data'][0])"
   ]
  },
  {
   "cell_type": "markdown",
   "metadata": {},
   "source": [
    "```\n",
    "{u'board-serial': u'662731A9BAD410C54EFE9B196401E8EC',\n",
    " u'certificate-validity': u'Valid',\n",
    " u'connectedVManages': [u'\"1.1.1.6\"'],\n",
    " u'controlConnections': u'27',\n",
    " u'device-groups': [u'\"No groups\"'],\n",
    " u'device-model': u'vmanage',\n",
    " u'device-os': u'next',\n",
    " u'device-type': u'vmanage',\n",
    " u'deviceId': u'1.1.1.6',\n",
    " u'domain-id': u'0',\n",
    " u'host-name': u'vManage',\n",
    " u'isDeviceGeoData': True,\n",
    " u'lastupdated': 1594751303467L,\n",
    " u'latitude': u'47.60323',\n",
    " u'layoutLevel': 1,\n",
    " u'local-system-ip': u'1.1.1.6',\n",
    " u'longitude': u'-122.33028',\n",
    " u'max-controllers': u'0',\n",
    " u'model_sku': u'None',\n",
    " u'personality': u'vmanage',\n",
    " u'platform': u'x86_64',\n",
    " u'reachability': u'reachable',\n",
    " u'site-id': u'4294947930',\n",
    " u'state': u'green',\n",
    " u'state_description': u'All daemons up',\n",
    " u'status': u'normal',\n",
    " u'statusOrder': 4,\n",
    " u'system-ip': u'1.1.1.6',\n",
    " u'testbed_mode': False,\n",
    " u'timezone': u'UTC',\n",
    " u'total_cpu_count': u'16',\n",
    " u'uptime-date': 1591641720000L,\n",
    " u'uuid': u'e74b4f73-34ec-46ae-ab04-1dc617d8de81',\n",
    " u'validity': u'valid',\n",
    " u'version': u'20.1.1'}\n",
    "```"
   ]
  }
 ],
 "metadata": {
  "kernelspec": {
   "display_name": "Python 3",
   "language": "python",
   "name": "python3"
  },
  "language_info": {
   "codemirror_mode": {
    "name": "ipython",
    "version": 3
   },
   "file_extension": ".py",
   "mimetype": "text/x-python",
   "name": "python",
   "nbconvert_exporter": "python",
   "pygments_lexer": "ipython3",
   "version": "3.6.9"
  }
 },
 "nbformat": 4,
 "nbformat_minor": 4
}
