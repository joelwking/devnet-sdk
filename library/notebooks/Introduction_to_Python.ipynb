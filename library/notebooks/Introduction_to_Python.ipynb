{
 "cells": [
  {
   "cell_type": "markdown",
   "id": "c7bf1db8",
   "metadata": {},
   "source": [
    "__Introduction to Python__\n",
    "\n",
    "---\n",
    "\n",
    "In this learning exercise, you should open a separate browser window and reference the examples in https://developer.cisco.com/learning/lab/intro-python-part1/step/3 and experiment with Python fundamentals in this Jupyter Notebook.\n",
    "\n",
    "Python is one of the easiest programming languages to learn. Compared to C or JAVA, the same algorithms can be written in Python with a 30-60% reduction in the number of lines of code. Most code is read more frequently than the time spent developing. Python is easily readable and thus is easily to read and comprehend. It has a large standard library and over 25,000 third party packages. Python is an object-oriented programming (OOP) language. An advantage of OOP is the code is easier to maintain, provide more reusable components and provides good scalability.\n",
    "\n",
    "__Code Guidelines__\n",
    "\n",
    "Typically, more time is spent reading code than writing it. There are coding conventions that specify best practices for indentation, maximum line length, use of whitespace and comments that can make the code more easily read by the author, or more importantly, others who would like to re-use your functions.\n",
    "There is a [Style Guide for Python Code](https://www.python.org/dev/peps/pep-0008/). Teams may have their own coding styles or conventions; the goal is to create readable and easily understandable code."
   ]
  },
  {
   "cell_type": "markdown",
   "id": "c62a78b7",
   "metadata": {},
   "source": [
    "---\n",
    "\n",
    "__Data Types__\n",
    "\n",
    "Understanding variable and data types within Python is a key element to learning the language. First, we introduce some terminology and concepts.\n",
    "\n",
    "Python variables do not need to be declared to reserve memory. When you create the variable you reserve memory for the variable. Variables are simply reserved locations in memory to store the values you assign to the variable.\n",
    "You assign values to the variable by use of the equal sign.\n",
    "\n",
    "> Terms: __Immutable:__ Cannot be modified after it is created. __Mutable:__ Liable to change - changeable, variable, varying.\n",
    "\n",
    "Python has these data types:\n",
    "\n",
    "__Number:__ Store numeric data, for example, integers and floating point numbers\n",
    "\n",
    "__String:__ A contiguous set of characters in between quotation marks – either “ or ‘ and for multi-line strings “””\n",
    "\n",
    "__List:__ Compound data type, Items separated by a comma and enclosed in square brackets []\n",
    "\n",
    "__Tuple:__ A tuple is a read-only (immutable) list, it cannot be change once created, they are enclosed in parentheses\n",
    "()\n",
    "\n",
    "__Dictionary:__ Key, value pairs, a hash table. Dictionaries are enclosed by curly braces { } and values referenced using square braces []\n",
    "\n",
    "__Boolean__: A build-in data type, indicating True or False.\n",
    "\n",
    ">Note: The `type()` method returns class type of the argument(object) passed as parameter, it is used for debugging."
   ]
  },
  {
   "cell_type": "code",
   "execution_count": 1,
   "id": "3939a8ca",
   "metadata": {},
   "outputs": [
    {
     "data": {
      "text/plain": [
       "int"
      ]
     },
     "execution_count": 1,
     "metadata": {},
     "output_type": "execute_result"
    }
   ],
   "source": [
    "score = 297         # Integer\n",
    "type(score)"
   ]
  },
  {
   "cell_type": "markdown",
   "id": "8d6eee7a",
   "metadata": {},
   "source": [
    "__Single-line comments__\n",
    "\n",
    "Single-line comments begin with the hash character `#` and are terminated by the end of line."
   ]
  },
  {
   "cell_type": "code",
   "execution_count": 2,
   "id": "48782d61",
   "metadata": {},
   "outputs": [],
   "source": [
    "# Floating Point Number"
   ]
  },
  {
   "cell_type": "markdown",
   "id": "86b62f3b",
   "metadata": {},
   "source": [
    "__Inline Comments__\n",
    "\n",
    "Python uses a `#` character to indicate a comment follows to the end of the line. Inline comments are used to document individual lines of code."
   ]
  },
  {
   "cell_type": "code",
   "execution_count": 3,
   "id": "433233d1",
   "metadata": {},
   "outputs": [
    {
     "data": {
      "text/plain": [
       "float"
      ]
     },
     "execution_count": 3,
     "metadata": {},
     "output_type": "execute_result"
    }
   ],
   "source": [
    "score = 297.1      # Floating Point Number\n",
    "type(score)"
   ]
  },
  {
   "cell_type": "markdown",
   "id": "975746b7",
   "metadata": {},
   "source": [
    "__Indentation__ and __Conditionals__\n",
    "\n",
    "Python uses indentation to mark the end of sections of code. Other languages use delimiter characters. Python’s use of indentation is a feature of the language; it makes the code easier to read.\n",
    "\n",
    "The `if` and `else` statements test conditional execution of code.\n",
    "\n",
    "Conditional statements instruct the interpreter to evaluate two or more variables and execute a block of code if the condition is true and optionally execute a block of code if the condition is false.\n",
    "An `if` statement, `if...else` statement and nested `if` statements implement these conditional blocks."
   ]
  },
  {
   "cell_type": "code",
   "execution_count": 4,
   "id": "4d849043",
   "metadata": {},
   "outputs": [
    {
     "name": "stdout",
     "output_type": "stream",
     "text": [
      "The value of score is True\n"
     ]
    }
   ],
   "source": [
    "score = True       # Boolean\n",
    "if score:\n",
    "    print('The value of score is {}'.format(score))\n",
    "else:\n",
    "    print(f'Score is of type: {type(score)}')"
   ]
  },
  {
   "cell_type": "markdown",
   "id": "1a38da33",
   "metadata": {},
   "source": [
    "__Define a function with keyword arguments__\n",
    "\n",
    "Functions let you write a piece of code and then reference the function by name. Arguments can be passed to the function. Documenting the function is an important aspect of programming.\n",
    "\n",
    "In Python there is a standard way to create comment blocks using docstrings. A docstring is a string literal that occurs as the first statement in your program. These comments are stored in the variable __doc__ and can be retrieved at runtime. Refer to the  [Example Google Style Python Docstrings](http://sphinxcontrib-napoleon.readthedocs.org/en/latest/example_google.html)"
   ]
  },
  {
   "cell_type": "code",
   "execution_count": 14,
   "id": "61d8d3e7",
   "metadata": {},
   "outputs": [],
   "source": [
    "def string_exercise(msg='Hello world'):\n",
    "    \"\"\" This is a Python string, a 'doc' string\n",
    "    \"\"\"\n",
    "    score = '297-1'\n",
    "    print(msg + score)  # concatenate two strings\n",
    "    return"
   ]
  },
  {
   "cell_type": "markdown",
   "id": "2a0be2ca",
   "metadata": {},
   "source": [
    "__Call the function__\n",
    "\n",
    "Now that we have defined a function"
   ]
  },
  {
   "cell_type": "code",
   "execution_count": 15,
   "id": "64239cec",
   "metadata": {},
   "outputs": [
    {
     "name": "stdout",
     "output_type": "stream",
     "text": [
      "Your score is:297-1\n"
     ]
    }
   ],
   "source": [
    "string_exercise(msg='Your score is:')"
   ]
  },
  {
   "cell_type": "markdown",
   "id": "9802a4d3",
   "metadata": {},
   "source": [
    "__Variable Names__\n",
    "\n",
    "Refer to the learning lab for a description of valid variable names or refer to the [PEP8](https://www.python.org/dev/peps/pep-0008/) standard for best practices."
   ]
  },
  {
   "cell_type": "code",
   "execution_count": 5,
   "id": "d7efdcb2",
   "metadata": {},
   "outputs": [],
   "source": [
    "this_is_a_variable = '1'"
   ]
  },
  {
   "cell_type": "markdown",
   "id": "9a9903da",
   "metadata": {},
   "source": [
    "Role of Underscore(_) in Python: https://www.datacamp.com/community/tutorials/role-underscore-python"
   ]
  },
  {
   "cell_type": "code",
   "execution_count": 6,
   "id": "8bf89bc8",
   "metadata": {},
   "outputs": [],
   "source": [
    "_this_is_a_variable = 2"
   ]
  },
  {
   "cell_type": "markdown",
   "id": "e0bbfe5a",
   "metadata": {},
   "source": [
    "__Objects__\n",
    "\n",
    "Object-oriented programming (OOP) is a programming methodology that represents a concept as an object that have data fields which describe the object and procedures which are called ‘methods’.\n",
    "An object has state (the data) and behavior (the code within the methods). The methods, or blocks of code of an object are sometimes also referred to as ‘procedures’ or ‘functions’. An ‘instance’ of an object is a specific realization of the object.\n",
    "\n",
    "To access the attributes(variables) or methods (functions) use the '.' notation. For example:"
   ]
  },
  {
   "cell_type": "code",
   "execution_count": 7,
   "id": "f45e0739",
   "metadata": {},
   "outputs": [
    {
     "name": "stdout",
     "output_type": "stream",
     "text": [
      "your score is:\n"
     ]
    }
   ],
   "source": [
    "msg = 'Your score is:'\n",
    "print(msg.lower())"
   ]
  },
  {
   "cell_type": "markdown",
   "id": "63a560b8",
   "metadata": {},
   "source": [
    "__Comparison operators__\n",
    "\n",
    "Comparison operators are used in conditional statements.\n",
    "\n"
   ]
  },
  {
   "cell_type": "code",
   "execution_count": 8,
   "id": "03089af7",
   "metadata": {},
   "outputs": [
    {
     "name": "stdout",
     "output_type": "stream",
     "text": [
      "True True\n"
     ]
    }
   ],
   "source": [
    "if this_is_a_variable == '1':\n",
    "    print('True', True)\n"
   ]
  },
  {
   "cell_type": "markdown",
   "id": "24388113",
   "metadata": {},
   "source": [
    "What is the difference between `'True'` and `True`?"
   ]
  },
  {
   "cell_type": "code",
   "execution_count": 9,
   "id": "407fe0fc",
   "metadata": {},
   "outputs": [
    {
     "data": {
      "text/plain": [
       "str"
      ]
     },
     "execution_count": 9,
     "metadata": {},
     "output_type": "execute_result"
    }
   ],
   "source": [
    "type('True')"
   ]
  },
  {
   "cell_type": "code",
   "execution_count": 10,
   "id": "bf77a53a",
   "metadata": {},
   "outputs": [
    {
     "data": {
      "text/plain": [
       "bool"
      ]
     },
     "execution_count": 10,
     "metadata": {},
     "output_type": "execute_result"
    }
   ],
   "source": [
    "type(True)"
   ]
  },
  {
   "cell_type": "markdown",
   "id": "a51fc8a9",
   "metadata": {},
   "source": [
    "__Functions__\n",
    "\n",
    "We have already written a function in this exercise. Now using Step 5 of the learning lab, insert a cell below this cell, and experiment with the function in https://developer.cisco.com/learning/lab/intro-python-part1/step/5"
   ]
  },
  {
   "cell_type": "code",
   "execution_count": 11,
   "id": "609b856e",
   "metadata": {},
   "outputs": [],
   "source": [
    "# Use the cell to experiement with functions"
   ]
  },
  {
   "cell_type": "markdown",
   "id": "e1e86b8a",
   "metadata": {},
   "source": [
    "---\n",
    "__Intro to Python - Part 2__\n",
    "\n",
    "Now invoke this learning lab https://developer.cisco.com/learning/lab/intro-python-part2/step/1\n",
    "\n",
    "We have already defined Python `lists`, `tuples`, and `dictionaries`, this learning lab can be use for additional exercises."
   ]
  },
  {
   "cell_type": "markdown",
   "id": "e1823763",
   "metadata": {},
   "source": [
    "__Lists__\n",
    "\n",
    "Python `lists` are compound data types which contain items of varying data types. Lists can be made up of strings and numbers, for example. Lists are mutable, as we can add and delete elements to the list. Here are some examples of creating a list, and adding and deleting elements of the list.\n",
    "\n",
    "Python `append()` method adds an element to a list, and the `extend()` method concatenates the first list with another list."
   ]
  },
  {
   "cell_type": "code",
   "execution_count": 36,
   "id": "279ae1e2",
   "metadata": {},
   "outputs": [],
   "source": [
    "Interface_IPs = []\n",
    "Interface_IPs.append('192.0.2.10')\n",
    "Interface_IPs.append('fe80::e6c7:22ff:fedc:4c80')\n",
    "Interface_IPs.extend(['192.0.2.11','192.168.11.49','ff02::2'])\n",
    "Interface_IPs[2] = '10.10.10.10'"
   ]
  },
  {
   "cell_type": "code",
   "execution_count": 37,
   "id": "0b4f55ce",
   "metadata": {},
   "outputs": [],
   "source": [
    "Interface_IPs.sort()"
   ]
  },
  {
   "cell_type": "code",
   "execution_count": 38,
   "id": "4477c774",
   "metadata": {},
   "outputs": [],
   "source": [
    "del Interface_IPs[2]"
   ]
  },
  {
   "cell_type": "code",
   "execution_count": 39,
   "id": "a2f1d063",
   "metadata": {},
   "outputs": [
    {
     "data": {
      "text/plain": [
       "['10.10.10.10', '192.0.2.10', 'fe80::e6c7:22ff:fedc:4c80', 'ff02::2']"
      ]
     },
     "execution_count": 39,
     "metadata": {},
     "output_type": "execute_result"
    }
   ],
   "source": [
    "Interface_IPs"
   ]
  },
  {
   "cell_type": "markdown",
   "id": "95901937",
   "metadata": {},
   "source": [
    "__Tuples__ can be thought of as read-only Python lists. Tuples are enclosed in parentheses ()"
   ]
  },
  {
   "cell_type": "code",
   "execution_count": 40,
   "id": "9ac05f9e",
   "metadata": {},
   "outputs": [],
   "source": [
    "import time\n",
    "def today():\n",
    "    return (\"Today is:\", time.asctime())"
   ]
  },
  {
   "cell_type": "code",
   "execution_count": 41,
   "id": "d43aa194",
   "metadata": {},
   "outputs": [
    {
     "name": "stdout",
     "output_type": "stream",
     "text": [
      "Today is: Tue Jun  8 16:28:46 2021 <class 'tuple'>\n"
     ]
    }
   ],
   "source": [
    "a,b = today()\n",
    "print(a, b, type(today()))"
   ]
  },
  {
   "cell_type": "markdown",
   "id": "14fc8a57",
   "metadata": {},
   "source": [
    "__Dictionary__\n",
    "\n",
    "Dictionaries are key / value pairs. For the network engineer. One use of dictionaries is to make programs more understandable. For example, we all know what IPv6 is, but do you know the hex representation of the Ethernet II ethertype for IPv6?\n",
    "\n",
    "Unlike lists, dictionaries have no prescribed order. For example, the dictionary method ‘items’ returns a list of key / value pairs, but in no set order. You can delete, add and update key / value pairs to a dictionary."
   ]
  },
  {
   "cell_type": "code",
   "execution_count": 43,
   "id": "780aa819",
   "metadata": {},
   "outputs": [],
   "source": [
    "EtherType = {\"IPv4\":\"0x0800\",\n",
    "             \"ARP\":\"0x0806\",\n",
    "             \"IPv6\":\"0x86DD\", \n",
    "             \"LLDP\":\"0x88CC\",\n",
    "             \"IE23\":\"0x05FF\",\n",
    "             \"EFC\":\"0x8808\", \n",
    "             \"IE1Q\":\"0x8100\",\n",
    "             \"SNMP\":\"0x814C\",\n",
    "             \"MPLu\":\"0x8847\",\n",
    "             \"MPLm\":\"0x8848\"}"
   ]
  },
  {
   "cell_type": "markdown",
   "id": "92373c57",
   "metadata": {},
   "source": [
    "In this next cell, we use a loop statement and the `items()` method to iterate over the dictionary."
   ]
  },
  {
   "cell_type": "code",
   "execution_count": 48,
   "id": "ab9c2a9a",
   "metadata": {},
   "outputs": [
    {
     "name": "stdout",
     "output_type": "stream",
     "text": [
      "IPv4 : 0x0800\n",
      "ARP  : 0x0806\n",
      "IPv6 : 0x86DD\n",
      "LLDP : 0x88CC\n",
      "IE23 : 0x05FF\n",
      "EFC  : 0x8808\n",
      "IE1Q : 0x8100\n",
      "SNMP : 0x814C\n",
      "MPLu : 0x8847\n",
      "MPLm : 0x8848\n"
     ]
    }
   ],
   "source": [
    "for protocol, hexvalue in EtherType.items():\n",
    "    print(f'{protocol:4} : {hexvalue}')        # Using f-string padding ':4' to create equal width columns"
   ]
  },
  {
   "cell_type": "markdown",
   "id": "9f57739d",
   "metadata": {},
   "source": [
    "---\n",
    "\n",
    "__Python program structure__\n",
    "\n",
    "In Step 5 of part2, https://developer.cisco.com/learning/lab/intro-python-part2/step/5 the learning lab explains the structure and execution of a Python program running outside the Jupyter notebook we have been using so far.\n",
    "\n",
    "You should read and review section 5 and the debugging basics in section 7.\n",
    "\n",
    "Now we will switch to the VS Code window, and execute a sample Python program from the terminal window.  You can either split the terminal window, creating an additional window, leaving Jupyter running, or issue a `CTL + C` and stop the kernal and use the original terminal window.\n",
    "\n",
    "In VS Code, locate and open the file `using_meraki_sdk.py` and review the program. Apply what you have learned in step 5 of the learning lab to the program structure.\n",
    "\n",
    "Execute the code in the terminal window. But first, set some environment variables to provide input to the program.\n",
    "\n",
    "__Environment variables__\n",
    "\n",
    "For this example, we must provide an API key and one of the organizations defined in the Meraki cloud. If you issue a web search for `meraki sandbox api key` you should locate a document https://developer.cisco.com/meraki/meraki-platform/ - scroll down to the value for `X-Cisco-Meraki-API-Key`. Copy that value and substitute it for the value specified below:\n",
    "\n",
    "```bash\n",
    "export MERAKI_KEY=6bec40cf957de430a6f1f2baa056b99a4fac9ea0\n",
    "export MERAKI_DEBUG=yes\n",
    "export MERAKI_ORG='DevNet Sandbox'\n",
    "```\n",
    "\n",
    "__Execute the sample program__\n",
    "\n",
    "Activate the Python virtual environment.\n",
    "\n",
    "```bash\n",
    "source /opt/jupyter/bin/activate\n",
    "```\n",
    "and verify the version of Python.\n",
    "\n",
    "```bash\n",
    "python --version\n",
    "```\n",
    "\n",
    ">Note: The output should indicate __Python 3.8.10__\n",
    "\n",
    "__Execute the program__\n",
    "\n",
    "```bash\n",
    "python ./using_meraki_sdk.py\n",
    "```\n",
    "\n",
    "Examine the results and execute the program again, this time turning off the DEBUG setting, in the terminal window, issue `unset MERAKI_DEBUG`.\n",
    "\n",
    "__Congratulations__ \n",
    "\n",
    "You have completed the Introduction to Python section of the DevNet Study Group."
   ]
  },
  {
   "cell_type": "code",
   "execution_count": null,
   "id": "14b82317",
   "metadata": {},
   "outputs": [],
   "source": []
  }
 ],
 "metadata": {
  "kernelspec": {
   "display_name": "Python 3",
   "language": "python",
   "name": "python3"
  },
  "language_info": {
   "codemirror_mode": {
    "name": "ipython",
    "version": 3
   },
   "file_extension": ".py",
   "mimetype": "text/x-python",
   "name": "python",
   "nbconvert_exporter": "python",
   "pygments_lexer": "ipython3",
   "version": "3.8.10"
  }
 },
 "nbformat": 4,
 "nbformat_minor": 5
}
