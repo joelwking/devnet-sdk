{
 "cells": [
  {
   "cell_type": "markdown",
   "id": "c7bf1db8",
   "metadata": {},
   "source": [
    "__Introduction to Python__\n",
    "\n",
    "Following the examples in https://developer.cisco.com/learning/lab/intro-python-part1/step/3 experiment with Python fundamentals in this Jupyter Notebook."
   ]
  },
  {
   "cell_type": "markdown",
   "id": "c62a78b7",
   "metadata": {},
   "source": [
    "*Basic Data Types*"
   ]
  },
  {
   "cell_type": "code",
   "execution_count": 2,
   "id": "3939a8ca",
   "metadata": {},
   "outputs": [
    {
     "data": {
      "text/plain": [
       "int"
      ]
     },
     "execution_count": 2,
     "metadata": {},
     "output_type": "execute_result"
    }
   ],
   "source": [
    "score = 297         # Integer\n",
    "type(score)"
   ]
  },
  {
   "cell_type": "code",
   "execution_count": 4,
   "id": "433233d1",
   "metadata": {},
   "outputs": [
    {
     "data": {
      "text/plain": [
       "float"
      ]
     },
     "execution_count": 4,
     "metadata": {},
     "output_type": "execute_result"
    }
   ],
   "source": [
    "score = 297.1      # Floating Point Number\n",
    "type(score)"
   ]
  },
  {
   "cell_type": "code",
   "execution_count": 12,
   "id": "4d849043",
   "metadata": {},
   "outputs": [
    {
     "name": "stdout",
     "output_type": "stream",
     "text": [
      "The value of score is True\n"
     ]
    }
   ],
   "source": [
    "score = True       # Boolean\n",
    "if score:\n",
    "    print('The value of score is {}'.format(score))\n",
    "else:\n",
    "    print(f'Score is of type: {type(score)}')"
   ]
  },
  {
   "cell_type": "code",
   "execution_count": 14,
   "id": "61d8d3e7",
   "metadata": {},
   "outputs": [],
   "source": [
    "def string_exercise(msg='Hello world'):\n",
    "    \"\"\" This is a Python string, a 'doc' string\n",
    "    \"\"\"\n",
    "    score = '297-1'\n",
    "    print(msg + score)  # concatenate two strings\n",
    "    return"
   ]
  },
  {
   "cell_type": "code",
   "execution_count": 15,
   "id": "64239cec",
   "metadata": {},
   "outputs": [
    {
     "name": "stdout",
     "output_type": "stream",
     "text": [
      "Your score is:297-1\n"
     ]
    }
   ],
   "source": [
    "string_exercise(msg='Your score is:')"
   ]
  },
  {
   "cell_type": "markdown",
   "id": "9802a4d3",
   "metadata": {},
   "source": [
    "**Variable Names**"
   ]
  },
  {
   "cell_type": "code",
   "execution_count": null,
   "id": "d7efdcb2",
   "metadata": {},
   "outputs": [],
   "source": []
  }
 ],
 "metadata": {
  "kernelspec": {
   "display_name": "Python 3",
   "language": "python",
   "name": "python3"
  },
  "language_info": {
   "codemirror_mode": {
    "name": "ipython",
    "version": 3
   },
   "file_extension": ".py",
   "mimetype": "text/x-python",
   "name": "python",
   "nbconvert_exporter": "python",
   "pygments_lexer": "ipython3",
   "version": "3.8.10"
  }
 },
 "nbformat": 4,
 "nbformat_minor": 5
}
