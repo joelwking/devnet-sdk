{
 "cells": [
  {
   "cell_type": "markdown",
   "metadata": {},
   "source": [
    "### Meraki Rate Limiting Exercise\n",
    "\n",
    "This notebook illustrates how to implement logic to handle failures due to rate limits on the Meraki Cloud.\n",
    "For an example code, refer to [*tips to avoid being rate limited*](https://developer.cisco.com/meraki/api/#/rest/guides/rate-limit/tips-to-avoid-being-rate-limited)\n",
    "\n",
    "In this demonstration we are using the requests module rather than the Meraki SDK. This lab provides a perspective of the benefits of using a SDK rather than managing the APIs directly from your code. \n",
    "\n",
    "** Imports **\n",
    "\n",
    "In addition to importing `json` and `requests`, the `time` module is used to sleep (suspend execution) in the rate limit function."
   ]
  },
  {
   "cell_type": "code",
   "execution_count": 1,
   "metadata": {},
   "outputs": [],
   "source": [
    "import time\n",
    "import json\n",
    "import requests\n",
    "import requests.packages.urllib3\n",
    "requests.packages.urllib3.disable_warnings()"
   ]
  },
  {
   "cell_type": "markdown",
   "metadata": {},
   "source": [
    "**Constants**\n",
    "\n",
    "Define constants to control the program execution. (Feel free to modify these if you wish). Because this lab is attempting to trigger the rate limit logic, the program must issue API calls in a rapid succession to trigger the logic. The goal is to trigger a 429 response code to test our logic.\n",
    "\n",
    "The nature of the rate limit logic is to recover from the error and be successful on a subsequent execution of the API call. However, there must be some limit or bounds on how many attempt before we give up! "
   ]
  },
  {
   "cell_type": "code",
   "execution_count": 2,
   "metadata": {},
   "outputs": [],
   "source": [
    "ITERATIONS = 10                         # Number of API calls to issue to attempt a trigger of the rate limit response\n",
    "RL_RETRY = 4                            # Number of attempts to issue the command before assuming the 429 is persistent"
   ]
  },
  {
   "cell_type": "markdown",
   "metadata": {},
   "source": [
    "**Friendly Names**\n",
    "\n",
    "Rather than use the integers 429 and 200 in our program, give them human friendly names so the code is more readable. `OK` is defined as a tuple with one value. The reason? There might be other return codes which are acceptable in addition to 200, so create a tuple which can be referenced in the code."
   ]
  },
  {
   "cell_type": "code",
   "execution_count": 3,
   "metadata": {},
   "outputs": [],
   "source": [
    "RATE_LIMIT_EXCEEDED = 429\n",
    "OK = (200,)"
   ]
  },
  {
   "cell_type": "markdown",
   "metadata": {},
   "source": [
    "**Headers and URL(s)**\n",
    "\n",
    "One advantage of the SDK, defining the header values is handled by the SDK! Recall from the SDK example in this repository, the API key needed to be specified. The other header information was formatted for us by the SDK.\n",
    "\n",
    "We will also define a constant `ORG` which holds a URL that can be used to generate API calls to the Meraki dashboard.\n",
    "\n",
    "The API key used in this example was obtained from: https://developer.cisco.com/meraki/meraki-platform/"
   ]
  },
  {
   "cell_type": "code",
   "execution_count": 4,
   "metadata": {},
   "outputs": [],
   "source": [
    "header = {\"Content-Type\": \"application/json\"}\n",
    "header[\"X-Cisco-Meraki-API-Key\"] = \"6bec40cf957de430a6f1f2baa056b99a4fac9ea0\"\n",
    "ORG = \"https://dashboard.meraki.com/api/v0/organizations\""
   ]
  },
  {
   "cell_type": "markdown",
   "metadata": {},
   "source": [
    "**Logic**\n",
    "\n",
    "Create a method (a function) to implement the logic to address any rate limit issued we may encounter. In Python, you can assign a function to a variable. This logic provides the ability for our program to call the rate_limit logic from various places in the program. This logic enables the rate limit logic to handle `requests.get`, `requests.put`, `requests.post`, etc.\n",
    "\n",
    "After executing the function held in `api_call`, check if the `status_code` signals we have been rate limited. Check the header value for a hit from the dashboard as to how log to wait, then try the API call again. At some point we want to exit from this logic, `RL_RETRY` keeps the loop from attempting forever."
   ]
  },
  {
   "cell_type": "code",
   "execution_count": 5,
   "metadata": {},
   "outputs": [],
   "source": [
    "def rate_limit(api_call, url, **kwargs):\n",
    "    \n",
    "        for _ in range(RL_RETRY):\n",
    "            response = api_call(url, **kwargs)\n",
    "            if response.status_code == RATE_LIMIT_EXCEEDED:\n",
    "                print(f'{RATE_LIMIT_EXCEEDED} {response.headers[\"X-Request-Id\"]}', end=' ')\n",
    "                time.sleep(int(response.headers.get(\"Retry-After\", 1)))\n",
    "            else:\n",
    "                return response\n",
    "        return response"
   ]
  },
  {
   "cell_type": "markdown",
   "metadata": {},
   "source": [
    "**Issue a GET**\n",
    "\n",
    "The method `api_get` provides a means to handle other errors which might be encountered. For example, what happens if we change the URL to a host which doesn't exist? For example:\n",
    "```\n",
    "ORG = \"https://dashboard.example.net/api/v0/organizations\"\n",
    "```\n",
    "Try it and see for yourself! Note that when we call the `rate_limit` method, the first argument is the function `requests.get`."
   ]
  },
  {
   "cell_type": "code",
   "execution_count": 6,
   "metadata": {},
   "outputs": [],
   "source": [
    "def api_get(uri):\n",
    "    try:\n",
    "        r = rate_limit(requests.get, uri, headers=header, verify=False)\n",
    "    except requests.ConnectionError as e:\n",
    "        print(f'ConnectionError: {e}')\n",
    "        return False\n",
    "    return r\n"
   ]
  },
  {
   "cell_type": "markdown",
   "metadata": {},
   "source": [
    "**Test Rate Limiting**\n",
    "\n",
    "At this point, attemt to trigger the rate limiting logic of the Meraki dashboard. Create a loop, using `ITERATIONS` defined previously, and return the organizations associated with this API key. Triggering the 429 rate limiting errors may require running hundreds of iterations. The function `api_get` returns the requests object, which means we can print out the status code and headers resulting from the request."
   ]
  },
  {
   "cell_type": "code",
   "execution_count": 7,
   "metadata": {
    "scrolled": true
   },
   "outputs": [
    {
     "name": "stdout",
     "output_type": "stream",
     "text": [
      "0|200 Wed, 02 Jun 2021 14:36:16 GMT 84aedc9418bbfb639b3b0b47aad39035\n",
      "1|200 Wed, 02 Jun 2021 14:36:18 GMT 108a41a79157e965c3525b27ac6db71f\n",
      "2|200 Wed, 02 Jun 2021 14:36:19 GMT c046f1d12f194dba922e83a579a37d8f\n",
      "3|200 Wed, 02 Jun 2021 14:36:20 GMT 072fc4f45cf0bc3fbba0b679c02abbcd\n",
      "4|200 Wed, 02 Jun 2021 14:36:21 GMT 7c3fc3859eb1e302b1e69bbce8e311b4\n",
      "5|200 Wed, 02 Jun 2021 14:36:23 GMT a9d7d9118dcd69c24003ffd57513cb44\n",
      "6|200 Wed, 02 Jun 2021 14:36:24 GMT a83a53ebe8e41902f02af7ce6498c4ef\n",
      "7|200 Wed, 02 Jun 2021 14:36:25 GMT 3cca49c4ea30721424d6f85f0f4d760e\n",
      "8|200 Wed, 02 Jun 2021 14:36:26 GMT 6bf410a3bf7ec7261fc91bf22f3deba4\n",
      "9|200 Wed, 02 Jun 2021 14:36:27 GMT 61c6c82f44b4f362c630a78710c0456b\n",
      "Finished!\n"
     ]
    }
   ],
   "source": [
    "for i in range(ITERATIONS):\n",
    "    r = api_get(ORG)\n",
    "    if r:\n",
    "        print(f'{i}|{r.status_code} {r.headers[\"Date\"]} {r.headers[\"X-Request-Id\"]}')\n",
    "print('Finished!')"
   ]
  },
  {
   "cell_type": "markdown",
   "metadata": {},
   "source": [
    "After the loop is finished, you can examine the contents of the *last* returned requests object. The `headers` variable is a dictionary. We referenced some fields previously, now examine all the key, value pairs stored in `headers`."
   ]
  },
  {
   "cell_type": "code",
   "execution_count": 8,
   "metadata": {},
   "outputs": [
    {
     "data": {
      "text/plain": [
       "{'Server': 'nginx/1.19.10', 'Date': 'Wed, 02 Jun 2021 14:36:27 GMT', 'Content-Type': 'application/json; charset=utf-8', 'Transfer-Encoding': 'chunked', 'Connection': 'keep-alive', 'Vary': 'Accept-Encoding', 'Cache-Control': 'no-cache, no-store, max-age=0, must-revalidate', 'Pragma': 'no-cache', 'Expires': 'Fri, 01 Jan 1990 00:00:00 GMT', 'X-Frame-Options': 'sameorigin', 'X-Robots-Tag': 'none', 'Sunset': '2022-02-05T23:59:59Z', 'Deprecation': '2020-08-05T23:59:59Z', 'Link': '<https://developer.cisco.com/meraki/api-v1/#!versioning>; rel=\"deprecation\"; type=\"text/html\", <https://n392.meraki.com/api/v1/organizations>; rel=\"successor-version\"; type=\"application/json\"', 'X-UA-Compatible': 'IE=Edge,chrome=1', 'X-Request-Id': '61c6c82f44b4f362c630a78710c0456b', 'X-Runtime': '0.117652', 'X-XSS-Protection': '1; mode=block'}"
      ]
     },
     "execution_count": 8,
     "metadata": {},
     "output_type": "execute_result"
    }
   ],
   "source": [
    "r.headers"
   ]
  },
  {
   "cell_type": "markdown",
   "metadata": {},
   "source": [
    "Similarly, examine the data returned from the API call, in this case, the organizations associated with the provide API key."
   ]
  },
  {
   "cell_type": "code",
   "execution_count": 9,
   "metadata": {
    "scrolled": true
   },
   "outputs": [
    {
     "data": {
      "text/plain": [
       "[{'id': '681155',\n",
       "  'name': 'DeLab',\n",
       "  'url': 'https://n392.meraki.com/o/49Gm_c/manage/organization/overview'},\n",
       " {'id': '575334852396583259',\n",
       "  'name': 'Demo Organization',\n",
       "  'url': 'https://n22.meraki.com/o/OSkPybw/manage/organization/overview'},\n",
       " {'id': '575334852396583255',\n",
       "  'name': 'My organization',\n",
       "  'url': 'https://n22.meraki.com/o/sZsJbcw/manage/organization/overview'},\n",
       " {'id': '575334852396583252',\n",
       "  'name': 'yanchen0531',\n",
       "  'url': 'https://n22.meraki.com/o/qDB0zcw/manage/organization/overview'},\n",
       " {'id': '575334852396583251',\n",
       "  'name': 'yanchennewwww',\n",
       "  'url': 'https://n22.meraki.com/o/7uGP6bw/manage/organization/overview'},\n",
       " {'id': '575334852396583247',\n",
       "  'name': 'FBECK-TEST',\n",
       "  'url': 'https://n22.meraki.com/o/MU-J1bw/manage/organization/overview'},\n",
       " {'id': '575334852396583246',\n",
       "  'name': 'FBECK-TEST',\n",
       "  'url': 'https://n22.meraki.com/o/Gpqldaw/manage/organization/overview'},\n",
       " {'id': '575334852396583244',\n",
       "  'name': 'FBECK-TEST',\n",
       "  'url': 'https://n22.meraki.com/o/UCsuQdw/manage/organization/overview'},\n",
       " {'id': '575334852396583243',\n",
       "  'name': 'Test',\n",
       "  'url': 'https://n22.meraki.com/o/lLZoIdw/manage/organization/overview'},\n",
       " {'id': '575334852396583242',\n",
       "  'name': 'My organization',\n",
       "  'url': 'https://n22.meraki.com/o/nr4Onaw/manage/organization/overview'},\n",
       " {'id': '575334852396583241',\n",
       "  'name': 'My organi',\n",
       "  'url': 'https://n22.meraki.com/o/0cvnOcw/manage/organization/overview'},\n",
       " {'id': '575334852396583240',\n",
       "  'name': 'My organization',\n",
       "  'url': 'https://n22.meraki.com/o/mE-Yvcw/manage/organization/overview'},\n",
       " {'id': '575334852396583237',\n",
       "  'name': 'Xorg',\n",
       "  'url': 'https://n22.meraki.com/o/ZF92zcw/manage/organization/overview'},\n",
       " {'id': '575334852396583231',\n",
       "  'name': 'SWTest',\n",
       "  'url': 'https://n22.meraki.com/o/aoQkidw/manage/organization/overview'},\n",
       " {'id': '575334852396583228',\n",
       "  'name': 'My organization',\n",
       "  'url': 'https://n22.meraki.com/o/x3F7ddw/manage/organization/overview'},\n",
       " {'id': '575334852396583227',\n",
       "  'name': 'My organization',\n",
       "  'url': 'https://n22.meraki.com/o/OC0OUcw/manage/organization/overview'},\n",
       " {'id': '575334852396583223',\n",
       "  'name': 'EvilCorp',\n",
       "  'url': 'https://n22.meraki.com/o/qr16kaw/manage/organization/overview'},\n",
       " {'id': '575334852396583220',\n",
       "  'name': 'My organization',\n",
       "  'url': 'https://n22.meraki.com/o/CvyQCdw/manage/organization/overview'},\n",
       " {'id': '575334852396583219',\n",
       "  'name': 'BibbyTest',\n",
       "  'url': 'https://n22.meraki.com/o/9MLK-dw/manage/organization/overview'},\n",
       " {'id': '575334852396583218',\n",
       "  'name': 'My organization',\n",
       "  'url': 'https://n22.meraki.com/o/Jsp1Hbw/manage/organization/overview'},\n",
       " {'id': '575334852396583213',\n",
       "  'name': '\"New Network\"',\n",
       "  'url': 'https://n22.meraki.com/o/IJQKjbw/manage/organization/overview'},\n",
       " {'id': '575334852396583212',\n",
       "  'name': 'My organization',\n",
       "  'url': 'https://n22.meraki.com/o/10LaTcw/manage/organization/overview'},\n",
       " {'id': '575334852396583211',\n",
       "  'name': 'My organization',\n",
       "  'url': 'https://n22.meraki.com/o/XGt9Jbw/manage/organization/overview'},\n",
       " {'id': '575334852396583210',\n",
       "  'name': 'My organization',\n",
       "  'url': 'https://n22.meraki.com/o/UOtVNdw/manage/organization/overview'},\n",
       " {'id': '575334852396583209',\n",
       "  'name': 'My organization',\n",
       "  'url': 'https://n22.meraki.com/o/FXlLpdw/manage/organization/overview'},\n",
       " {'id': '575334852396583208',\n",
       "  'name': 'BearHoleComputing',\n",
       "  'url': 'https://n22.meraki.com/o/5x0wqaw/manage/organization/overview'},\n",
       " {'id': '575334852396583207',\n",
       "  'name': 'My organization',\n",
       "  'url': 'https://n22.meraki.com/o/sbC_Ccw/manage/organization/overview'},\n",
       " {'id': '575334852396583206',\n",
       "  'name': 'My organization',\n",
       "  'url': 'https://n22.meraki.com/o/30yoXbw/manage/organization/overview'},\n",
       " {'id': '575334852396583205',\n",
       "  'name': 'My organization',\n",
       "  'url': 'https://n22.meraki.com/o/WbcYxbw/manage/organization/overview'},\n",
       " {'id': '575334852396583204',\n",
       "  'name': 'My organization',\n",
       "  'url': 'https://n22.meraki.com/o/jx92mdw/manage/organization/overview'},\n",
       " {'id': '575334852396583203',\n",
       "  'name': 'My organization',\n",
       "  'url': 'https://n22.meraki.com/o/tSDYWdw/manage/organization/overview'},\n",
       " {'id': '575334852396583202',\n",
       "  'name': 'My organization',\n",
       "  'url': 'https://n22.meraki.com/o/7F-82bw/manage/organization/overview'},\n",
       " {'id': '575334852396583201',\n",
       "  'name': 'My organization',\n",
       "  'url': 'https://n22.meraki.com/o/1SMPJdw/manage/organization/overview'},\n",
       " {'id': '575334852396583200',\n",
       "  'name': 'My organization',\n",
       "  'url': 'https://n22.meraki.com/o/jfXz9dw/manage/organization/overview'},\n",
       " {'id': '575334852396583199',\n",
       "  'name': 'BT Germany',\n",
       "  'url': 'https://n22.meraki.com/o/zIExLaw/manage/organization/overview'},\n",
       " {'id': '575334852396583198',\n",
       "  'name': 'GigaSchool_PS_Lab',\n",
       "  'url': 'https://n22.meraki.com/o/k8EKedw/manage/organization/overview'},\n",
       " {'id': '573083052582914233',\n",
       "  'name': 'Test_org',\n",
       "  'url': 'https://n18.meraki.com/o/TY6awbs/manage/organization/overview'},\n",
       " {'id': '575334852396583197',\n",
       "  'name': 'The New Org',\n",
       "  'url': 'https://n22.meraki.com/o/wXe-Faw/manage/organization/overview'},\n",
       " {'id': '575334852396583158',\n",
       "  'name': 'Testlab',\n",
       "  'url': 'https://n22.meraki.com/o/AvGDGdw/manage/organization/overview'},\n",
       " {'id': '575334852396583157',\n",
       "  'name': 'My organization',\n",
       "  'url': 'https://n22.meraki.com/o/XKaacdw/manage/organization/overview'},\n",
       " {'id': '575334852396583155',\n",
       "  'name': 'My organization',\n",
       "  'url': 'https://n22.meraki.com/o/nTtW2cw/manage/organization/overview'},\n",
       " {'id': '575334852396583153',\n",
       "  'name': 'Meraki Test Org',\n",
       "  'url': 'https://n22.meraki.com/o/gE9L-dw/manage/organization/overview'},\n",
       " {'id': '575334852396583151',\n",
       "  'name': 'DevnetIT',\n",
       "  'url': 'https://n22.meraki.com/o/er0NZaw/manage/organization/overview'},\n",
       " {'id': '575334852396583149',\n",
       "  'name': 'g1xOrgTst',\n",
       "  'url': 'https://n22.meraki.com/o/7F8Bcaw/manage/organization/overview'},\n",
       " {'id': '575334852396583148',\n",
       "  'name': 'Mygl',\n",
       "  'url': 'https://n22.meraki.com/o/wXlrqaw/manage/organization/overview'},\n",
       " {'id': '575334852396583147',\n",
       "  'name': 'My organization',\n",
       "  'url': 'https://n22.meraki.com/o/oyvYKbw/manage/organization/overview'},\n",
       " {'id': '575334852396583146',\n",
       "  'name': 'My organization',\n",
       "  'url': 'https://n22.meraki.com/o/xrjk-bw/manage/organization/overview'},\n",
       " {'id': '575334852396583134',\n",
       "  'name': 'Wotan',\n",
       "  'url': 'https://n22.meraki.com/o/U3paXbw/manage/organization/overview'},\n",
       " {'id': '575334852396583133',\n",
       "  'name': 'test-test',\n",
       "  'url': 'https://n22.meraki.com/o/NBowlcw/manage/organization/overview'},\n",
       " {'id': '575334852396583131',\n",
       "  'name': 'thienbao',\n",
       "  'url': 'https://n22.meraki.com/o/dADP-cw/manage/organization/overview'},\n",
       " {'id': '575334852396583130',\n",
       "  'name': 'thienbao',\n",
       "  'url': 'https://n22.meraki.com/o/fpNHwdw/manage/organization/overview'},\n",
       " {'id': '575334852396583129',\n",
       "  'name': 'thienbao',\n",
       "  'url': 'https://n22.meraki.com/o/2G7Vudw/manage/organization/overview'},\n",
       " {'id': '575334852396583128',\n",
       "  'name': 'trungheo',\n",
       "  'url': 'https://n22.meraki.com/o/XjvDBcw/manage/organization/overview'},\n",
       " {'id': '575334852396583127',\n",
       "  'name': 'trungheo123',\n",
       "  'url': 'https://n22.meraki.com/o/Nyn1Gaw/manage/organization/overview'},\n",
       " {'id': '575334852396583094',\n",
       "  'name': 'hutechdaihoccongnghe',\n",
       "  'url': 'https://n22.meraki.com/o/4HhIcbw/manage/organization/overview'},\n",
       " {'id': '575334852396583093',\n",
       "  'name': 'The Org',\n",
       "  'url': 'https://n22.meraki.com/o/yotmJcw/manage/organization/overview'},\n",
       " {'id': '575334852396583091',\n",
       "  'name': 'My organization',\n",
       "  'url': 'https://n22.meraki.com/o/yRLG_bw/manage/organization/overview'},\n",
       " {'id': '575334852396583090',\n",
       "  'name': 'minhtrung',\n",
       "  'url': 'https://n22.meraki.com/o/uViWYcw/manage/organization/overview'},\n",
       " {'id': '575334852396583089',\n",
       "  'name': 'nam',\n",
       "  'url': 'https://n22.meraki.com/o/Qih5sbw/manage/organization/overview'},\n",
       " {'id': '575334852396583088',\n",
       "  'name': 'trung',\n",
       "  'url': 'https://n22.meraki.com/o/apnSUbw/manage/organization/overview'},\n",
       " {'id': '575334852396583087',\n",
       "  'name': 'trung123',\n",
       "  'url': 'https://n22.meraki.com/o/mpwmFbw/manage/organization/overview'},\n",
       " {'id': '575334852396583086',\n",
       "  'name': 'hutech123',\n",
       "  'url': 'https://n22.meraki.com/o/mp3Oubw/manage/organization/overview'},\n",
       " {'id': '575334852396583080',\n",
       "  'name': 'Meraki Launchpad',\n",
       "  'url': 'https://n22.meraki.com/o/OtpLIcw/manage/organization/overview'},\n",
       " {'id': '575334852396583079',\n",
       "  'name': 'Raygunn Networks',\n",
       "  'url': 'https://n22.meraki.com/o/Jeg7Rcw/manage/organization/overview'},\n",
       " {'id': '575334852396583078',\n",
       "  'name': 'Meraki Launchpad',\n",
       "  'url': 'https://n22.meraki.com/o/W1GI6aw/manage/organization/overview'},\n",
       " {'id': '575334852396583074',\n",
       "  'name': 'est_My_Organization',\n",
       "  'url': 'https://n22.meraki.com/o/Ldwfidw/manage/organization/overview'},\n",
       " {'id': '575334852396583073',\n",
       "  'name': 'ghwerty',\n",
       "  'url': 'https://n22.meraki.com/o/J1I4Bbw/manage/organization/overview'},\n",
       " {'id': '575334852396583071',\n",
       "  'name': 'PM_Test',\n",
       "  'url': 'https://n22.meraki.com/o/lUmuUdw/manage/organization/overview'},\n",
       " {'id': '575334852396583070',\n",
       "  'name': 'My organization',\n",
       "  'url': 'https://n22.meraki.com/o/lxY7Daw/manage/organization/overview'},\n",
       " {'id': '575334852396583068',\n",
       "  'name': 'Testing123',\n",
       "  'url': 'https://n22.meraki.com/o/3TfLCbw/manage/organization/overview'},\n",
       " {'id': '575334852396583066',\n",
       "  'name': 'My organization',\n",
       "  'url': 'https://n22.meraki.com/o/nN3_Rcw/manage/organization/overview'},\n",
       " {'id': '575334852396583064',\n",
       "  'name': 'My organization',\n",
       "  'url': 'https://n22.meraki.com/o/tY3Cgcw/manage/organization/overview'},\n",
       " {'id': '575334852396583065',\n",
       "  'name': 'My organization',\n",
       "  'url': 'https://n22.meraki.com/o/2sIfCdw/manage/organization/overview'},\n",
       " {'id': '575334852396583063',\n",
       "  'name': 'My organization',\n",
       "  'url': 'https://n22.meraki.com/o/McD_gdw/manage/organization/overview'},\n",
       " {'id': '575334852396583062',\n",
       "  'name': 'Charanya CX labs',\n",
       "  'url': 'https://n22.meraki.com/o/xFZ4abw/manage/organization/overview'},\n",
       " {'id': '575334852396583056',\n",
       "  'name': 'My organization',\n",
       "  'url': 'https://n22.meraki.com/o/lQeOqcw/manage/organization/overview'},\n",
       " {'id': '575334852396583051',\n",
       "  'name': 'trung',\n",
       "  'url': 'https://n22.meraki.com/o/4lFkacw/manage/organization/overview'},\n",
       " {'id': '575334852396583031',\n",
       "  'name': 'My organization',\n",
       "  'url': 'https://n22.meraki.com/o/N1e3qdw/manage/organization/overview'},\n",
       " {'id': '575334852396582986',\n",
       "  'name': 'DevNet Test Org',\n",
       "  'url': 'https://n22.meraki.com/o/yZVJIcw/manage/organization/overview'},\n",
       " {'id': '575334852396582973',\n",
       "  'name': 'DevNet Test Org',\n",
       "  'url': 'https://n22.meraki.com/o/4ApTKbw/manage/organization/overview'},\n",
       " {'id': '575334852396582756',\n",
       "  'name': 'Personal.Lekhnath',\n",
       "  'url': 'https://n22.meraki.com/o/HjSXiaw/manage/organization/overview'},\n",
       " {'id': '575334852396582755',\n",
       "  'name': 'My organization',\n",
       "  'url': 'https://n22.meraki.com/o/LwDcydw/manage/organization/overview'},\n",
       " {'id': '575334852396582738',\n",
       "  'name': 'My organization',\n",
       "  'url': 'https://n22.meraki.com/o/wzbgjbw/manage/organization/overview'},\n",
       " {'id': '575334852396582684',\n",
       "  'name': 'SVR',\n",
       "  'url': 'https://n22.meraki.com/o/rMNradw/manage/organization/overview'},\n",
       " {'id': '566327653141842188',\n",
       "  'name': 'DevNetAssoc',\n",
       "  'url': 'https://n6.meraki.com/o/dcGsWag/manage/organization/overview'},\n",
       " {'id': '575334852396582591',\n",
       "  'name': 'Ftreqah organization',\n",
       "  'url': 'https://n22.meraki.com/o/Kpj8kdw/manage/organization/overview'},\n",
       " {'id': '549236',\n",
       "  'name': 'DevNet Sandbox',\n",
       "  'url': 'https://n149.meraki.com/o/-t35Mb/manage/organization/overview'},\n",
       " {'id': '52636',\n",
       "  'name': 'Forest City - Other',\n",
       "  'url': 'https://n42.meraki.com/o/E_utnd/manage/organization/overview'},\n",
       " {'id': '865776',\n",
       "  'name': 'Cisco Live US 2019',\n",
       "  'url': 'https://n22.meraki.com/o/CVQqTb/manage/organization/overview'},\n",
       " {'id': '463308',\n",
       "  'name': 'DevNet San Jose',\n",
       "  'url': 'https://n18.meraki.com/o/vB2D8a/manage/organization/overview'}]"
      ]
     },
     "execution_count": 9,
     "metadata": {},
     "output_type": "execute_result"
    }
   ],
   "source": [
    "r.json()"
   ]
  },
  {
   "cell_type": "markdown",
   "metadata": {},
   "source": [
    "Reference the list of organizations and print out the `id` and `name`."
   ]
  },
  {
   "cell_type": "code",
   "execution_count": 10,
   "metadata": {},
   "outputs": [
    {
     "name": "stdout",
     "output_type": "stream",
     "text": [
      "681155 DeLab\n",
      "575334852396583259 Demo Organization\n",
      "575334852396583255 My organization\n",
      "575334852396583252 yanchen0531\n",
      "575334852396583251 yanchennewwww\n",
      "575334852396583247 FBECK-TEST\n",
      "575334852396583246 FBECK-TEST\n",
      "575334852396583244 FBECK-TEST\n",
      "575334852396583243 Test\n",
      "575334852396583242 My organization\n",
      "575334852396583241 My organi\n",
      "575334852396583240 My organization\n",
      "575334852396583237 Xorg\n",
      "575334852396583231 SWTest\n",
      "575334852396583228 My organization\n",
      "575334852396583227 My organization\n",
      "575334852396583223 EvilCorp\n",
      "575334852396583220 My organization\n",
      "575334852396583219 BibbyTest\n",
      "575334852396583218 My organization\n",
      "575334852396583213 \"New Network\"\n",
      "575334852396583212 My organization\n",
      "575334852396583211 My organization\n",
      "575334852396583210 My organization\n",
      "575334852396583209 My organization\n",
      "575334852396583208 BearHoleComputing\n",
      "575334852396583207 My organization\n",
      "575334852396583206 My organization\n",
      "575334852396583205 My organization\n",
      "575334852396583204 My organization\n",
      "575334852396583203 My organization\n",
      "575334852396583202 My organization\n",
      "575334852396583201 My organization\n",
      "575334852396583200 My organization\n",
      "575334852396583199 BT Germany\n",
      "575334852396583198 GigaSchool_PS_Lab\n",
      "573083052582914233 Test_org\n",
      "575334852396583197 The New Org\n",
      "575334852396583158 Testlab\n",
      "575334852396583157 My organization\n",
      "575334852396583155 My organization\n",
      "575334852396583153 Meraki Test Org\n",
      "575334852396583151 DevnetIT\n",
      "575334852396583149 g1xOrgTst\n",
      "575334852396583148 Mygl\n",
      "575334852396583147 My organization\n",
      "575334852396583146 My organization\n",
      "575334852396583134 Wotan\n",
      "575334852396583133 test-test\n",
      "575334852396583131 thienbao\n",
      "575334852396583130 thienbao\n",
      "575334852396583129 thienbao\n",
      "575334852396583128 trungheo\n",
      "575334852396583127 trungheo123\n",
      "575334852396583094 hutechdaihoccongnghe\n",
      "575334852396583093 The Org\n",
      "575334852396583091 My organization\n",
      "575334852396583090 minhtrung\n",
      "575334852396583089 nam\n",
      "575334852396583088 trung\n",
      "575334852396583087 trung123\n",
      "575334852396583086 hutech123\n",
      "575334852396583080 Meraki Launchpad\n",
      "575334852396583079 Raygunn Networks\n",
      "575334852396583078 Meraki Launchpad\n",
      "575334852396583074 est_My_Organization\n",
      "575334852396583073 ghwerty\n",
      "575334852396583071 PM_Test\n",
      "575334852396583070 My organization\n",
      "575334852396583068 Testing123\n",
      "575334852396583066 My organization\n",
      "575334852396583064 My organization\n",
      "575334852396583065 My organization\n",
      "575334852396583063 My organization\n",
      "575334852396583062 Charanya CX labs\n",
      "575334852396583056 My organization\n",
      "575334852396583051 trung\n",
      "575334852396583031 My organization\n",
      "575334852396582986 DevNet Test Org\n",
      "575334852396582973 DevNet Test Org\n",
      "575334852396582756 Personal.Lekhnath\n",
      "575334852396582755 My organization\n",
      "575334852396582738 My organization\n",
      "575334852396582684 SVR\n",
      "566327653141842188 DevNetAssoc\n",
      "575334852396582591 Ftreqah organization\n",
      "549236 DevNet Sandbox\n",
      "52636 Forest City - Other\n",
      "865776 Cisco Live US 2019\n",
      "463308 DevNet San Jose\n"
     ]
    }
   ],
   "source": [
    "for organization in r.json():\n",
    "    print(organization['id'], organization['name'])"
   ]
  },
  {
   "cell_type": "markdown",
   "metadata": {},
   "source": [
    "**Get Networks**\n",
    "\n",
    "For the next example, our code needs to know what networks are associated with one of the organizations. Issue the API call to get networks for the specified organization, (in this case, 549236), and print out the `id` and network `name`."
   ]
  },
  {
   "cell_type": "code",
   "execution_count": 11,
   "metadata": {},
   "outputs": [
    {
     "name": "stdout",
     "output_type": "stream",
     "text": [
      "L_646829496481105433 DevNet Sandbox ALWAYS ON\n",
      "L_646829496481108255 GTECH-MAIN\n",
      "L_646829496481108285 GTECH\n",
      "L_646829496481108288 GFORCE\n",
      "L_646829496481108291 UNPLUGGED SANDBOXES \n",
      "L_646829496481108477 ITSCORE\n",
      "L_646829496481108480 KG\n",
      "L_646829496481108482 KG_Enterprise\n",
      "L_646829496481108485 DNSMB2\n",
      "L_646829496481108486 ABEBI\n",
      "L_646829496481108492 DNSMB3\n",
      "L_646829496481108493 DNSMB4\n",
      "L_646829496481108496 DNENT2\n"
     ]
    }
   ],
   "source": [
    "r = api_get('https://dashboard.meraki.com/api/v0/organizations/549236/networks')\n",
    "for network in r.json():\n",
    "    print(f'{network[\"id\"]} {network[\"name\"]}')\n"
   ]
  },
  {
   "cell_type": "markdown",
   "metadata": {},
   "source": [
    "**Issue a POST**\n",
    "\n",
    "Create a new function to post data to the dashboard. The HTTP POST is commonly used to send some amount of data to the dashboard to update the charactistics of, in this case, a network configuration. This fuction is similar to the `api_get`, with the difference being we have added an additional argument, the `body` variable. The data we intent to send is stored in the `body`."
   ]
  },
  {
   "cell_type": "code",
   "execution_count": 12,
   "metadata": {},
   "outputs": [],
   "source": [
    "def api_post(uri, body={}):\n",
    "    try:\n",
    "        r = rate_limit(requests.post, uri, data=body, headers=header, verify=False)\n",
    "    except requests.ConnectionError as e:\n",
    "        print(f'ConnectionError: {e}')\n",
    "        return False\n",
    "    return r"
   ]
  },
  {
   "cell_type": "markdown",
   "metadata": {},
   "source": [
    "Now invoke the function `api_post`, using one of the network `id` from above in the URL and specify a configuration template in the `body`."
   ]
  },
  {
   "cell_type": "code",
   "execution_count": 13,
   "metadata": {},
   "outputs": [],
   "source": [
    "r = api_post(f'https://dashboard.meraki.com/api/v0/networks/{network[\"id\"]}/bind', body='{\"configTemplateId\": \"N_23952905\"}')"
   ]
  },
  {
   "cell_type": "markdown",
   "metadata": {},
   "source": [
    "Examine the result. Why did the POST request fail? Examine the `status_code` and returned `text` field."
   ]
  },
  {
   "cell_type": "code",
   "execution_count": 14,
   "metadata": {},
   "outputs": [
    {
     "name": "stdout",
     "output_type": "stream",
     "text": [
      "403  \n"
     ]
    }
   ],
   "source": [
    "print(r.status_code, r.text)"
   ]
  },
  {
   "cell_type": "markdown",
   "metadata": {},
   "source": [
    "The request failed due to an incorrect template ID. Note the `rate_limit` logic passed the return code *400* back to the calling function. Now, generate another error. This time change the hostname to `example.net`. This host doesn't exist, where will this error be caught in the logic?"
   ]
  },
  {
   "cell_type": "code",
   "execution_count": 15,
   "metadata": {},
   "outputs": [
    {
     "name": "stdout",
     "output_type": "stream",
     "text": [
      "ConnectionError: HTTPSConnectionPool(host='dashboard.example.net', port=443): Max retries exceeded with url: /api/v0/networks/L_646829496481108496/bind (Caused by NewConnectionError('<urllib3.connection.HTTPSConnection object at 0x7fa37c9c2dc0>: Failed to establish a new connection: [Errno -2] Name or service not known'))\n"
     ]
    }
   ],
   "source": [
    "r = api_post(f'https://dashboard.example.net/api/v0/networks/{network[\"id\"]}/bind', body='{\"configTemplateId\": \"N_23952905\"}')"
   ]
  },
  {
   "cell_type": "markdown",
   "metadata": {},
   "source": [
    "The `ConnectionError` message was generated by the try/except block in the `api_post` function. Examine the value of variable `r`."
   ]
  },
  {
   "cell_type": "code",
   "execution_count": 16,
   "metadata": {},
   "outputs": [
    {
     "name": "stdout",
     "output_type": "stream",
     "text": [
      "False\n"
     ]
    }
   ],
   "source": [
    "print(r)"
   ]
  },
  {
   "cell_type": "markdown",
   "metadata": {},
   "source": [
    "Note that the variable `r` has a value of False, a boolean, and `r.status_code` does not exist. The program cannot populate the variable of `r` with a status code because none exists, we were unsuccessful in connecting to the target host, no status code exists. Our program logic returns False in this case. Note that in our looping logic, we check to see `if r` is true before printing the contents of the object.\n",
    "\n",
    "** Learning Aids **\n",
    "\n",
    "Study the [List of HTTP Status Codes](https://en.wikipedia.org/wiki/List_of_HTTP_status_codes) paying particular attention to:\n",
    "```\n",
    "2xx Success\n",
    "200 OK\n",
    "201 Created\n",
    "202 Accepted\n",
    "\n",
    "3xx Redirection\n",
    "301 Moved Permanently\n",
    "\n",
    "4xx Client errors\n",
    "400 Bad Request\n",
    "401 Unauthorized\n",
    "403 Forbidden\n",
    "404 Not Found\n",
    "429 Too Many Requests\n",
    "```\n",
    "Many of these common status codes can be observed in this program example. Also familiarize yourself with the definition and usage of the [HTTP request methods](https://developer.mozilla.org/en-US/docs/Web/HTTP/Methods).\n",
    "\n",
    "```\n",
    "GET requests a representation of the specified resource, retrieves data\n",
    "POST submit an entity to the specified resource, often causing a change in state or side effects on the server\n",
    "PUT replaces all current representations of the target resource with the request payload\n",
    "DELETE deletes the specified resource\n",
    "PATCH  apply partial modifications to a resource\n",
    "```\n",
    "\n",
    "** Summary **\n",
    "\n",
    "Hopefully this exercise provides a perspective of how a programming must consider and address connection and status error messages when using the Meraki dashboard API directly rather than allowing the SDK to handle these issues. This exercise also introduced the concept of passing functions in variables between different parts of your Python program. It also examines how to incorporate sample logic from the *tips to avoid being rate limited* article and create a more robust solution in your code.\n",
    "\n",
    "** Author **\n",
    "\n",
    "Joel W. King (GitHub / GitLab @joelwking)"
   ]
  },
  {
   "cell_type": "code",
   "execution_count": null,
   "metadata": {},
   "outputs": [],
   "source": []
  }
 ],
 "metadata": {
  "kernelspec": {
   "display_name": "Python 3",
   "language": "python",
   "name": "python3"
  },
  "language_info": {
   "codemirror_mode": {
    "name": "ipython",
    "version": 3
   },
   "file_extension": ".py",
   "mimetype": "text/x-python",
   "name": "python",
   "nbconvert_exporter": "python",
   "pygments_lexer": "ipython3",
   "version": "3.8.10"
  }
 },
 "nbformat": 4,
 "nbformat_minor": 4
}
