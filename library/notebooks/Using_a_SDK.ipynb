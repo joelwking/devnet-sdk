{
 "cells": [
  {
   "cell_type": "markdown",
   "metadata": {},
   "source": [
    "**Hello World**\n",
    "\n",
    "This example has been updated to include Version 2 of the Meraki SDK\n",
    "\n",
    "The API documentation is available at https://developer.cisco.com/meraki/api/#!introduction\n"
   ]
  },
  {
   "cell_type": "code",
   "execution_count": 1,
   "metadata": {},
   "outputs": [],
   "source": [
    "# This SDK is being deprecated ...\n",
    "from meraki_sdk.meraki_sdk_client import MerakiSdkClient\n",
    "from meraki_sdk.exceptions.api_exception import APIException\n",
    "\n",
    "# ... in favor of the library maintained at https://github.com/meraki/dashboard-api-python/\n",
    "import meraki\n",
    "\n",
    "x_cisco_meraki_api_key = '6bec40cf957de430a6f1f2baa056b99a4fac9ea0'\n"
   ]
  },
  {
   "cell_type": "code",
   "execution_count": 2,
   "metadata": {},
   "outputs": [],
   "source": [
    "dashboard_o = MerakiSdkClient(x_cisco_meraki_api_key)"
   ]
  },
  {
   "cell_type": "code",
   "execution_count": 3,
   "metadata": {},
   "outputs": [
    {
     "name": "stderr",
     "output_type": "stream",
     "text": [
      "2021-06-02 18:06:56       meraki:     INFO > Meraki dashboard API session initialized with these parameters: {'version': '1.7.2', 'api_key': '************************************9ea0', 'base_url': 'https://api.meraki.com/api/v1', 'single_request_timeout': 60, 'certificate_path': '', 'requests_proxy': '', 'wait_on_rate_limit': True, 'nginx_429_retry_wait_time': 60, 'action_batch_retry_wait_time': 60, 'retry_4xx_error': False, 'retry_4xx_error_wait_time': 60, 'maximum_retries': 2, 'simulate': False, 'be_geo_id': None, 'caller': None, 'use_iterator_for_get_pages': False}\n"
     ]
    }
   ],
   "source": [
    "dashboard = meraki.DashboardAPI(x_cisco_meraki_api_key)"
   ]
  },
  {
   "cell_type": "code",
   "execution_count": 5,
   "metadata": {},
   "outputs": [],
   "source": [
    "orgs = dashboard_o.organizations.get_organizations()"
   ]
  },
  {
   "cell_type": "code",
   "execution_count": 6,
   "metadata": {},
   "outputs": [
    {
     "name": "stderr",
     "output_type": "stream",
     "text": [
      "2021-06-02 18:07:35       meraki:     INFO > GET https://api.meraki.com/api/v1/organizations\n",
      "2021-06-02 18:07:36       meraki:     INFO > organizations, getOrganizations - 200 OK\n"
     ]
    }
   ],
   "source": [
    "organizations = dashboard.organizations.getOrganizations()"
   ]
  },
  {
   "cell_type": "markdown",
   "metadata": {},
   "source": [
    "From here onward, use the deprecated SDK"
   ]
  },
  {
   "cell_type": "code",
   "execution_count": 7,
   "metadata": {},
   "outputs": [
    {
     "name": "stdout",
     "output_type": "stream",
     "text": [
      "575334852396583244 FBECK-TEST\n",
      "575334852396583197 The New Org\n",
      "575334852396582986 DevNet Test Org\n",
      "575334852396583068 Testing123\n",
      "575334852396583241 My organi\n",
      "575334852396583090 minhtrung\n",
      "575334852396583056 My organization\n",
      "865776 Cisco Live US 2019\n",
      "575334852396583251 yanchennewwww\n",
      "575334852396583148 Mygl\n",
      "575334852396582591 Ftreqah organization\n",
      "575334852396583149 g1xOrgTst\n",
      "575334852396582973 DevNet Test Org\n",
      "575334852396583128 trungheo\n",
      "575334852396583031 My organization\n",
      "575334852396583155 My organization\n",
      "575334852396583199 BT Germany\n",
      "575334852396583127 trungheo123\n",
      "575334852396582738 My organization\n",
      "575334852396582756 Personal.Lekhnath\n",
      "575334852396583089 nam\n",
      "575334852396583051 trung\n",
      "575334852396583153 Meraki Test Org\n",
      "575334852396583213 \"New Network\"\n",
      "575334852396583065 My organization\n",
      "575334852396583064 My organization\n",
      "575334852396583219 BibbyTest\n",
      "575334852396583203 My organization\n",
      "575334852396583211 My organization\n",
      "575334852396582684 SVR\n",
      "575334852396583071 PM_Test\n",
      "575334852396583206 My organization\n",
      "575334852396583074 est_My_Organization\n",
      "575334852396583198 GigaSchool_PS_Lab\n",
      "575334852396583080 Meraki Launchpad\n",
      "575334852396583207 My organization\n",
      "575334852396583086 hutech123\n",
      "575334852396583087 trung123\n",
      "575334852396583218 My organization\n",
      "575334852396583228 My organization\n",
      "575334852396583078 Meraki Launchpad\n",
      "575334852396583093 The Org\n",
      "575334852396583237 Xorg\n",
      "575334852396583209 My organization\n",
      "575334852396583158 Testlab\n",
      "575334852396583131 thienbao\n",
      "575334852396583134 Wotan\n",
      "575334852396583146 My organization\n",
      "575334852396583133 test-test\n",
      "575334852396583147 My organization\n",
      "575334852396583157 My organization\n",
      "575334852396583201 My organization\n",
      "575334852396583202 My organization\n",
      "575334852396583243 Test\n",
      "575334852396583204 My organization\n",
      "575334852396583205 My organization\n",
      "575334852396583208 BearHoleComputing\n",
      "575334852396583210 My organization\n",
      "575334852396583220 My organization\n",
      "575334852396583223 EvilCorp\n",
      "575334852396583227 My organization\n",
      "575334852396583129 thienbao\n",
      "575334852396583246 FBECK-TEST\n",
      "575334852396583259 Demo Organization\n",
      "575334852396582755 My organization\n",
      "575334852396583200 My organization\n",
      "575334852396583255 My organization\n",
      "575334852396583062 Charanya CX labs\n",
      "575334852396583073 ghwerty\n",
      "575334852396583066 My organization\n",
      "575334852396583079 Raygunn Networks\n",
      "575334852396583070 My organization\n",
      "575334852396583063 My organization\n",
      "575334852396583242 My organization\n",
      "575334852396583231 SWTest\n",
      "575334852396583151 DevnetIT\n",
      "575334852396583252 yanchen0531\n",
      "575334852396583088 trung\n",
      "575334852396583260 My organization\n",
      "575334852396583094 hutechdaihoccongnghe\n",
      "575334852396583212 My organization\n",
      "575334852396583247 FBECK-TEST\n",
      "575334852396583130 thienbao\n",
      "575334852396583091 My organization\n",
      "575334852396583240 My organization\n",
      "573083052582914233 Test_org\n",
      "549236 DevNet Sandbox\n",
      "52636 Forest City - Other\n",
      "463308 DevNet San Jose\n",
      "566327653141842188 DevNetAssoc\n",
      "681155 DeLab\n"
     ]
    }
   ],
   "source": [
    "organization_id = ''\n",
    "for org in orgs:\n",
    "  print('{} {}'.format(org.get('id'), org.get('name')))  \n",
    "  if org.get('name') == 'WWT':\n",
    "      organization_id = org.get('id')"
   ]
  },
  {
   "cell_type": "code",
   "execution_count": 10,
   "metadata": {
    "scrolled": false
   },
   "outputs": [],
   "source": [
    "collect = dict()\n",
    "collect['organization_id'] = organization_id\n",
    "collect['organization_id'] = '865776'\n",
    "result = dashboard_o.devices.get_organization_devices(collect)"
   ]
  },
  {
   "cell_type": "code",
   "execution_count": 12,
   "metadata": {},
   "outputs": [],
   "source": [
    "try:\n",
    "    result = dashboard_o.devices.get_organization_devices(collect)\n",
    "except (APIException, ValueError) as e:\n",
    "    print('Failed to return devices: {}'.format(e))"
   ]
  },
  {
   "cell_type": "code",
   "execution_count": 13,
   "metadata": {},
   "outputs": [
    {
     "name": "stdout",
     "output_type": "stream",
     "text": [
      "[{'address': '', 'configurationUpdatedAt': '2021-06-02T10:10:46Z', 'firmware': 'wireless-27-6', 'lanIp': '192.168.128.3', 'lat': 37.4180951010362, 'lng': -122.098531723022, 'mac': 'e0:55:3d:10:42:8a', 'model': 'MR84', 'name': '', 'networkId': 'L_646829496481108255', 'notes': '', 'serial': 'Q2EK-S3AA-BXFW', 'tags': '', 'url': 'https://n149.meraki.com/GTECH-MAIN-wirel/n/5cLPBbvc/manage/nodes/new_list/246656701317770'}, {'address': '', 'configurationUpdatedAt': '2021-06-02T00:09:41Z', 'firmware': 'Not running configured version', 'lanIp': None, 'lat': 37.4180951010362, 'lng': -122.098531723022, 'mac': '34:56:fe:a2:58:83', 'model': 'MV12WE', 'name': '', 'networkId': 'L_646829496481108496', 'notes': '', 'serial': 'Q2FV-TG7N-MF4E', 'tags': '', 'url': 'https://n149.meraki.com/DNENT2-rxxxxxxxs/n/mGni7avc/manage/nodes/new_list/57548243884163'}, {'address': '', 'configurationUpdatedAt': '2021-06-02T00:09:39Z', 'firmware': 'switch-12-28-1', 'lanIp': None, 'lat': 37.4180951010362, 'lng': -122.098531723022, 'mac': '34:56:fe:a5:8a:20', 'model': 'MS225-24P', 'name': '', 'networkId': 'L_646829496481108496', 'notes': '', 'serial': 'Q2GW-2WW9-LLZC', 'tags': '', 'url': 'https://n149.meraki.com/DNENT2-rxxxxxxxs/n/O_S9havc/manage/nodes/new_list/57548244093472'}, {'address': '', 'configurationUpdatedAt': '2021-06-01T19:00:39Z', 'firmware': 'switch-12-28-1', 'lanIp': None, 'lat': 37.4180951010362, 'lng': -122.098531723022, 'mac': '88:15:44:df:76:d1', 'model': 'MS220-8P', 'name': '', 'networkId': 'L_646829496481108493', 'notes': '', 'serial': 'Q2HP-AJ22-UG72', 'tags': '', 'url': 'https://n149.meraki.com/DNSMB4-switch/n/FAZU0dvc/manage/nodes/new_list/149624931186385'}, {'address': '', 'configurationUpdatedAt': '2021-04-30T09:07:43Z', 'firmware': 'switch-11-31', 'lanIp': '10.10.10.131', 'lat': 37.4180951010362, 'lng': -122.098531723022, 'mac': '88:15:44:df:f3:af', 'model': 'MS220-8P', 'name': '', 'networkId': 'L_646829496481105433', 'notes': '', 'serial': 'Q2HP-F5K5-R88R', 'tags': '', 'url': 'https://n149.meraki.com/DevNet-Sandbox-A/n/EFZ1Davc/manage/nodes/new_list/149624931218351'}, {'address': '', 'configurationUpdatedAt': '2021-06-01T16:53:06Z', 'firmware': 'switch-12-28-1', 'lanIp': '192.168.128.5', 'lat': 37.4180951010362, 'lng': -122.098531723022, 'mac': 'e0:55:3d:d2:e6:cd', 'model': 'MS220-8P', 'name': '', 'networkId': 'L_646829496481108255', 'notes': '', 'serial': 'Q2HP-Q9S8-BVHB', 'tags': '', 'url': 'https://n149.meraki.com/GTECH-MAIN-switc/n/26B0savc/manage/nodes/new_list/246656714073805'}, {'address': '', 'configurationUpdatedAt': '2021-05-31T22:53:00Z', 'firmware': 'switch-12-28-1', 'lanIp': '192.168.128.3', 'lat': 37.4180951010362, 'lng': -122.098531723022, 'mac': '88:15:44:df:fe:8e', 'model': 'MS220-8P', 'name': '', 'networkId': 'L_646829496481108485', 'notes': '', 'serial': 'Q2HP-WH5E-MK7H', 'tags': '', 'url': 'https://n149.meraki.com/DNSMB2-switch/n/oWQHUcvc/manage/nodes/new_list/149624931221134'}, {'address': '', 'configurationUpdatedAt': '2021-06-01T19:41:19Z', 'firmware': 'Not running configured version', 'lanIp': '10.10.10.107', 'lat': 37.4180951010362, 'lng': -122.098531723022, 'mac': 'e0:55:3d:1f:a7:10', 'model': 'MR32', 'name': '', 'networkId': 'L_646829496481108493', 'notes': '', 'serial': 'Q2JD-CAF3-Y6G2', 'tags': '', 'url': 'https://n149.meraki.com/DNSMB4-wireless/n/Eqk-6dvc/manage/nodes/new_list/246656702326544'}, {'address': '', 'configurationUpdatedAt': '2021-05-31T23:12:38Z', 'firmware': 'Not running configured version', 'lanIp': '192.168.128.7', 'lat': 37.4180951010362, 'lng': -122.098531723022, 'mac': 'e0:55:3d:21:26:60', 'model': 'MR32', 'name': '', 'networkId': 'L_646829496481108485', 'notes': '', 'serial': 'Q2JD-N9K5-3QRB', 'tags': '', 'url': 'https://n149.meraki.com/DNSMB2-wireless/n/SsXXbcvc/manage/nodes/new_list/246656702424672'}, {'address': 'Puri Kharisma', 'configurationUpdatedAt': '2021-06-02T15:34:34Z', 'firmware': 'wireless-26-6-1', 'lanIp': None, 'lat': -6.97817626419744, 'lng': 107.631476116217, 'mac': '88:15:44:60:21:10', 'model': 'MR53', 'name': 'Testing-Devnet', 'networkId': 'L_646829496481105433', 'notes': '', 'serial': 'Q2MD-BHHS-5FDL', 'tags': '', 'url': 'https://n149.meraki.com/DevNet-Sandbox-A/n/raXeAcvc/manage/nodes/new_list/149624922841360'}, {'address': '', 'configurationUpdatedAt': '2021-06-02T18:09:39Z', 'firmware': 'wireless-27-6', 'lanIp': None, 'lat': 37.4180951010362, 'lng': -122.098531723022, 'mac': 'e0:cb:bc:51:28:f2', 'model': 'MR53', 'name': '', 'networkId': 'L_646829496481108496', 'notes': '', 'serial': 'Q2MD-Y5QK-LAK2', 'tags': '', 'url': 'https://n149.meraki.com/DNENT2-rxxxxxxxs/n/UKfnRavc/manage/nodes/new_list/247165642418418'}, {'address': '', 'configurationUpdatedAt': '2021-06-02T00:09:38Z', 'firmware': 'Not running configured version', 'lat': 37.4180951010362, 'lng': -122.098531723022, 'mac': 'e0:55:3d:2b:ef:a0', 'model': 'MX84', 'name': '', 'networkId': 'L_646829496481108496', 'notes': '', 'serial': 'Q2PN-WWNM-JRAS', 'tags': '', 'url': 'https://n149.meraki.com/DNENT2-rxxxxxxxs/n/uH5Inbvc/manage/nodes/new_list/246656703131552', 'wan1Ip': None, 'wan2Ip': None}, {'address': '', 'configurationUpdatedAt': '2021-04-24T04:38:34Z', 'firmware': 'Not running configured version', 'lat': 37.4180951010362, 'lng': -122.098531723022, 'mac': 'e0:55:3d:17:d4:23', 'model': 'MX65', 'name': \"Michael's AP\", 'networkId': 'L_646829496481105433', 'notes': '', 'serial': 'Q2QN-9J8L-SLPD', 'tags': ' recently-added ', 'url': 'https://n149.meraki.com/DevNet-Sandbox-A/n/9tIK5cvc/manage/nodes/new_list/246656701813795', 'wan1Ip': '10.10.10.118', 'wan2Ip': None}, {'address': '', 'configurationUpdatedAt': '2021-06-02T15:13:41Z', 'firmware': 'wired-15-42-1', 'lat': 37.4180951010362, 'lng': -122.098531723022, 'mac': 'e0:55:3d:17:d5:1a', 'model': 'MX65', 'name': '', 'networkId': 'L_646829496481108485', 'notes': '', 'serial': 'Q2QN-WPR6-UJPL', 'tags': '', 'url': 'https://n149.meraki.com/DNSMB2-appliance/n/nn0J1dvc/manage/nodes/new_list/246656701814042', 'wan1Ip': '10.10.10.112', 'wan2Ip': None}, {'address': '', 'configurationUpdatedAt': '2021-05-12T21:02:06Z', 'firmware': 'wired-15-42-1', 'lat': 37.4180951010362, 'lng': -122.098531723022, 'mac': 'e0:55:3d:70:ad:86', 'model': 'MX65', 'name': '', 'networkId': 'L_646829496481108255', 'notes': '', 'serial': 'Q2QN-WS5Y-DN8E', 'tags': '', 'url': 'https://n149.meraki.com/GTECH-MAIN-appli/n/jb43Ucvc/manage/nodes/new_list/246656707636614', 'wan1Ip': '10.10.10.132', 'wan2Ip': None}, {'address': '', 'configurationUpdatedAt': '2021-06-02T14:16:41Z', 'firmware': 'wireless-27-6', 'lanIp': '192.168.128.9', 'lat': 37.4180951010362, 'lng': -122.098531723022, 'mac': 'e0:55:3d:f4:39:17', 'model': 'MR30H', 'name': '', 'networkId': 'L_646829496481108255', 'notes': '', 'serial': 'Q2RD-4YLL-CSUN', 'tags': '', 'url': 'https://n149.meraki.com/GTECH-MAIN-wirel/n/5cLPBbvc/manage/nodes/new_list/246656716257559'}]\n"
     ]
    }
   ],
   "source": [
    "collect['organization_id'] = '549236'\n",
    "try:\n",
    "    result = dashboard_o.devices.get_organization_devices(collect)\n",
    "except APIException as e:\n",
    "    print('APIException: {}'.format(e))\n",
    "\n",
    "print(result)"
   ]
  },
  {
   "cell_type": "code",
   "execution_count": 14,
   "metadata": {},
   "outputs": [
    {
     "data": {
      "text/plain": [
       "{'address': '',\n",
       " 'configurationUpdatedAt': '2021-06-02T10:10:46Z',\n",
       " 'firmware': 'wireless-27-6',\n",
       " 'lanIp': '192.168.128.3',\n",
       " 'lat': 37.4180951010362,\n",
       " 'lng': -122.098531723022,\n",
       " 'mac': 'e0:55:3d:10:42:8a',\n",
       " 'model': 'MR84',\n",
       " 'name': '',\n",
       " 'networkId': 'L_646829496481108255',\n",
       " 'notes': '',\n",
       " 'serial': 'Q2EK-S3AA-BXFW',\n",
       " 'tags': '',\n",
       " 'url': 'https://n149.meraki.com/GTECH-MAIN-wirel/n/5cLPBbvc/manage/nodes/new_list/246656701317770'}"
      ]
     },
     "execution_count": 14,
     "metadata": {},
     "output_type": "execute_result"
    }
   ],
   "source": [
    "result[0]"
   ]
  },
  {
   "cell_type": "code",
   "execution_count": null,
   "metadata": {},
   "outputs": [],
   "source": []
  }
 ],
 "metadata": {
  "kernelspec": {
   "display_name": "Python 3",
   "language": "python",
   "name": "python3"
  },
  "language_info": {
   "codemirror_mode": {
    "name": "ipython",
    "version": 3
   },
   "file_extension": ".py",
   "mimetype": "text/x-python",
   "name": "python",
   "nbconvert_exporter": "python",
   "pygments_lexer": "ipython3",
   "version": "3.8.10"
  }
 },
 "nbformat": 4,
 "nbformat_minor": 4
}
