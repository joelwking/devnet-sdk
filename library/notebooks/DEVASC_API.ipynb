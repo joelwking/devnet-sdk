{
 "cells": [
  {
   "cell_type": "markdown",
   "metadata": {},
   "source": [
    "*Lab Exercises for DevNet Associate session on Application Programming Interfaces APIs*\n",
    "\n",
    "This exercise illustrates the components of the REST API call using the Requests module. We illustrate the HTTP Verb, Sent Header, Received Header, Status Code and Body."
   ]
  },
  {
   "cell_type": "markdown",
   "metadata": {},
   "source": [
    "Import the requests module"
   ]
  },
  {
   "cell_type": "code",
   "execution_count": 1,
   "metadata": {},
   "outputs": [],
   "source": [
    "import requests\n",
    "import requests.packages.urllib3\n",
    "requests.packages.urllib3.disable_warnings()"
   ]
  },
  {
   "cell_type": "markdown",
   "metadata": {},
   "source": [
    "Specify the header values to send"
   ]
  },
  {
   "cell_type": "code",
   "execution_count": 2,
   "metadata": {},
   "outputs": [],
   "source": [
    "header = {\"Content-Type\": \"application/json\"}\n",
    "header[\"X-Cisco-Meraki-API-Key\"] = \"093b24e85df15a3e66f1fc359f4c48493eaa1b73\""
   ]
  },
  {
   "cell_type": "markdown",
   "metadata": {},
   "source": [
    "Specify the URL to send, this example queries the Meraki organizations associated with the API key"
   ]
  },
  {
   "cell_type": "code",
   "execution_count": 24,
   "metadata": {},
   "outputs": [],
   "source": [
    "URL = ORG = \"https://dashboard.meraki.com/api/v0/organizations\""
   ]
  },
  {
   "cell_type": "markdown",
   "metadata": {},
   "source": [
    "Issue the HTTP GET"
   ]
  },
  {
   "cell_type": "code",
   "execution_count": 26,
   "metadata": {},
   "outputs": [],
   "source": [
    "response = requests.get(URL, headers=header, verify=False)"
   ]
  },
  {
   "cell_type": "markdown",
   "metadata": {},
   "source": [
    "Check the status code, Note the data type is an integer and requests provides a boolean associated with the return code 200 OK"
   ]
  },
  {
   "cell_type": "code",
   "execution_count": 31,
   "metadata": {},
   "outputs": [
    {
     "name": "stdout",
     "output_type": "stream",
     "text": [
      "200 <class 'int'> True\n"
     ]
    }
   ],
   "source": [
    "print(response.status_code, type(response.status_code), response.ok)"
   ]
  },
  {
   "cell_type": "markdown",
   "metadata": {},
   "source": [
    "Examine the response headers"
   ]
  },
  {
   "cell_type": "code",
   "execution_count": 32,
   "metadata": {},
   "outputs": [
    {
     "data": {
      "text/plain": [
       "{'Server': 'nginx', 'Date': 'Tue, 19 May 2020 18:45:55 GMT', 'Content-Type': 'application/json; charset=utf-8', 'Transfer-Encoding': 'chunked', 'Connection': 'keep-alive', 'Vary': 'Accept-Encoding', 'Cache-Control': 'no-cache, no-store, max-age=0, must-revalidate', 'Pragma': 'no-cache', 'Expires': 'Fri, 01 Jan 1990 00:00:00 GMT', 'X-Frame-Options': 'sameorigin', 'X-Robots-Tag': 'none', 'X-UA-Compatible': 'IE=Edge,chrome=1', 'X-Request-Id': '36db00949333bc0d5a5226b7952409e2', 'X-Runtime': '0.125607', 'X-XSS-Protection': '1; mode=block', 'Content-Encoding': 'gzip'}"
      ]
     },
     "execution_count": 32,
     "metadata": {},
     "output_type": "execute_result"
    }
   ],
   "source": [
    "response.headers"
   ]
  },
  {
   "cell_type": "markdown",
   "metadata": {},
   "source": [
    "Examine the content returned from the request"
   ]
  },
  {
   "cell_type": "code",
   "execution_count": 29,
   "metadata": {},
   "outputs": [
    {
     "data": {
      "text/plain": [
       "b'[{\"id\":\"537758\",\"name\":\"Meraki Launchpad\\xf0\\x9f\\x9a\\x80\",\"url\":\"https://n149.meraki.com/o/d029Cc/manage/organization/overview\",\"samlConsumerUrl\":\"https://n149.meraki.com/saml/login/d029Cc/rtFn7bJtIRna\",\"samlConsumerUrls\":[\"https://n149.meraki.com/saml/login/d029Cc/rtFn7bJtIRna\"]},{\"id\":\"549236\",\"name\":\"DevNet Sandbox\",\"url\":\"https://n149.meraki.com/o/-t35Mb/manage/organization/overview\"}]'"
      ]
     },
     "execution_count": 29,
     "metadata": {},
     "output_type": "execute_result"
    }
   ],
   "source": [
    "response.content"
   ]
  },
  {
   "cell_type": "markdown",
   "metadata": {},
   "source": [
    "Examine the content using the JSON method"
   ]
  },
  {
   "cell_type": "code",
   "execution_count": 30,
   "metadata": {},
   "outputs": [
    {
     "data": {
      "text/plain": [
       "[{'id': '537758',\n",
       "  'name': 'Meraki Launchpad🚀',\n",
       "  'url': 'https://n149.meraki.com/o/d029Cc/manage/organization/overview',\n",
       "  'samlConsumerUrl': 'https://n149.meraki.com/saml/login/d029Cc/rtFn7bJtIRna',\n",
       "  'samlConsumerUrls': ['https://n149.meraki.com/saml/login/d029Cc/rtFn7bJtIRna']},\n",
       " {'id': '549236',\n",
       "  'name': 'DevNet Sandbox',\n",
       "  'url': 'https://n149.meraki.com/o/-t35Mb/manage/organization/overview'}]"
      ]
     },
     "execution_count": 30,
     "metadata": {},
     "output_type": "execute_result"
    }
   ],
   "source": [
    "response.json()"
   ]
  },
  {
   "cell_type": "markdown",
   "metadata": {},
   "source": [
    "You can issue the `dir(response)` command to see the variables and methods returned from the Requests module. Documentation is available at https://requests.readthedocs.io/en/master/ - examine what is available to your program."
   ]
  },
  {
   "cell_type": "code",
   "execution_count": 18,
   "metadata": {},
   "outputs": [
    {
     "data": {
      "text/plain": [
       "'https://n149.meraki.com/api/v0/organizations'"
      ]
     },
     "execution_count": 18,
     "metadata": {},
     "output_type": "execute_result"
    }
   ],
   "source": [
    "response.url"
   ]
  },
  {
   "cell_type": "code",
   "execution_count": 19,
   "metadata": {},
   "outputs": [
    {
     "data": {
      "text/plain": [
       "False"
      ]
     },
     "execution_count": 19,
     "metadata": {},
     "output_type": "execute_result"
    }
   ],
   "source": [
    "response.is_redirect"
   ]
  },
  {
   "cell_type": "code",
   "execution_count": 20,
   "metadata": {},
   "outputs": [
    {
     "data": {
      "text/plain": [
       "True"
      ]
     },
     "execution_count": 20,
     "metadata": {},
     "output_type": "execute_result"
    }
   ],
   "source": [
    "response.ok"
   ]
  },
  {
   "cell_type": "markdown",
   "metadata": {},
   "source": [
    "Author: joel.king@wwt.com GitHub/GitLab: @joelwking"
   ]
  },
  {
   "cell_type": "code",
   "execution_count": null,
   "metadata": {},
   "outputs": [],
   "source": []
  }
 ],
 "metadata": {
  "kernelspec": {
   "display_name": "Python 3",
   "language": "python",
   "name": "python3"
  },
  "language_info": {
   "codemirror_mode": {
    "name": "ipython",
    "version": 3
   },
   "file_extension": ".py",
   "mimetype": "text/x-python",
   "name": "python",
   "nbconvert_exporter": "python",
   "pygments_lexer": "ipython3",
   "version": "3.6.9"
  }
 },
 "nbformat": 4,
 "nbformat_minor": 4
}
