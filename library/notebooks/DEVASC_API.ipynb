{
 "cells": [
  {
   "cell_type": "markdown",
   "metadata": {},
   "source": [
    "*Lab Exercises for DevNet Associate session on Application Programming Interfaces APIs*\n",
    "\n",
    "This exercise illustrates the components of the REST API call using the Requests module. We illustrate the HTTP Verb, Sent Header, Received Header, Status Code and Body."
   ]
  },
  {
   "cell_type": "markdown",
   "metadata": {},
   "source": [
    "Import the requests module"
   ]
  },
  {
   "cell_type": "code",
   "execution_count": 1,
   "metadata": {},
   "outputs": [],
   "source": [
    "import requests\n",
    "import requests.packages.urllib3\n",
    "requests.packages.urllib3.disable_warnings()"
   ]
  },
  {
   "cell_type": "markdown",
   "metadata": {},
   "source": [
    "Specify the header values to send"
   ]
  },
  {
   "cell_type": "code",
   "execution_count": 15,
   "metadata": {},
   "outputs": [],
   "source": [
    "header = {\"Content-Type\": \"application/json\"}\n",
    "header[\"X-Cisco-Meraki-API-Key\"] = \"6bec40cf957de430a6f1f2baa056b99a4fac9ea0\""
   ]
  },
  {
   "cell_type": "markdown",
   "metadata": {},
   "source": [
    "Specify the URL to send, this example queries the Meraki organizations associated with the API key"
   ]
  },
  {
   "cell_type": "code",
   "execution_count": 16,
   "metadata": {},
   "outputs": [],
   "source": [
    "URL = ORG = \"https://dashboard.meraki.com/api/v0/organizations\""
   ]
  },
  {
   "cell_type": "markdown",
   "metadata": {},
   "source": [
    "Issue the HTTP GET"
   ]
  },
  {
   "cell_type": "code",
   "execution_count": 17,
   "metadata": {},
   "outputs": [],
   "source": [
    "response = requests.get(URL, headers=header, verify=False)"
   ]
  },
  {
   "cell_type": "markdown",
   "metadata": {},
   "source": [
    "Check the status code, Note the data type is an integer and requests provides a boolean associated with the return code 200 OK"
   ]
  },
  {
   "cell_type": "code",
   "execution_count": 18,
   "metadata": {},
   "outputs": [
    {
     "name": "stdout",
     "output_type": "stream",
     "text": [
      "200 <class 'int'> True\n"
     ]
    }
   ],
   "source": [
    "print(response.status_code, type(response.status_code), response.ok)"
   ]
  },
  {
   "cell_type": "markdown",
   "metadata": {},
   "source": [
    "Examine the response headers"
   ]
  },
  {
   "cell_type": "code",
   "execution_count": 19,
   "metadata": {},
   "outputs": [
    {
     "data": {
      "text/plain": [
       "{'Server': 'nginx/1.19.10', 'Date': 'Tue, 01 Jun 2021 20:42:10 GMT', 'Content-Type': 'application/json; charset=utf-8', 'Transfer-Encoding': 'chunked', 'Connection': 'keep-alive', 'Vary': 'Accept-Encoding', 'Cache-Control': 'no-cache, no-store, max-age=0, must-revalidate', 'Pragma': 'no-cache', 'Expires': 'Fri, 01 Jan 1990 00:00:00 GMT', 'X-Frame-Options': 'sameorigin', 'X-Robots-Tag': 'none', 'Sunset': '2022-02-05T23:59:59Z', 'Deprecation': '2020-08-05T23:59:59Z', 'Link': '<https://developer.cisco.com/meraki/api-v1/#!versioning>; rel=\"deprecation\"; type=\"text/html\", <https://n22.meraki.com/api/v1/organizations>; rel=\"successor-version\"; type=\"application/json\"', 'X-UA-Compatible': 'IE=Edge,chrome=1', 'X-Request-Id': 'd67940755c63c8cb252612489bc3d3af', 'X-Runtime': '0.432670', 'X-XSS-Protection': '1; mode=block'}"
      ]
     },
     "execution_count": 19,
     "metadata": {},
     "output_type": "execute_result"
    }
   ],
   "source": [
    "response.headers"
   ]
  },
  {
   "cell_type": "markdown",
   "metadata": {},
   "source": [
    "Examine the content returned from the request"
   ]
  },
  {
   "cell_type": "code",
   "execution_count": 20,
   "metadata": {},
   "outputs": [
    {
     "data": {
      "text/plain": [
       "b'[{\"id\":\"575334852396583133\",\"name\":\"test-test\",\"url\":\"https://n22.meraki.com/o/NBowlcw/manage/organization/overview\"},{\"id\":\"575334852396583219\",\"name\":\"BibbyTest\",\"url\":\"https://n22.meraki.com/o/9MLK-dw/manage/organization/overview\"},{\"id\":\"575334852396583151\",\"name\":\"DevnetIT\",\"url\":\"https://n22.meraki.com/o/er0NZaw/manage/organization/overview\"},{\"id\":\"575334852396583213\",\"name\":\"\\\\\"New Network\\\\\"\",\"url\":\"https://n22.meraki.com/o/IJQKjbw/manage/organization/overview\"},{\"id\":\"575334852396583153\",\"name\":\"Meraki Test Org\",\"url\":\"https://n22.meraki.com/o/gE9L-dw/manage/organization/overview\"},{\"id\":\"575334852396583128\",\"name\":\"trungheo\",\"url\":\"https://n22.meraki.com/o/XjvDBcw/manage/organization/overview\"},{\"id\":\"575334852396583243\",\"name\":\"Test\",\"url\":\"https://n22.meraki.com/o/lLZoIdw/manage/organization/overview\"},{\"id\":\"575334852396583237\",\"name\":\"Xorg\",\"url\":\"https://n22.meraki.com/o/ZF92zcw/manage/organization/overview\"},{\"id\":\"575334852396583093\",\"name\":\"The Org\",\"url\":\"https://n22.meraki.com/o/yotmJcw/manage/organization/overview\"},{\"id\":\"575334852396582756\",\"name\":\"Personal.Lekhnath\",\"url\":\"https://n22.meraki.com/o/HjSXiaw/manage/organization/overview\"},{\"id\":\"575334852396582684\",\"name\":\"SVR\",\"url\":\"https://n22.meraki.com/o/rMNradw/manage/organization/overview\"},{\"id\":\"575334852396582986\",\"name\":\"DevNet Test Org\",\"url\":\"https://n22.meraki.com/o/yZVJIcw/manage/organization/overview\"},{\"id\":\"575334852396582755\",\"name\":\"My organization\",\"url\":\"https://n22.meraki.com/o/LwDcydw/manage/organization/overview\"},{\"id\":\"575334852396583251\",\"name\":\"yanchennewwww\",\"url\":\"https://n22.meraki.com/o/7uGP6bw/manage/organization/overview\"},{\"id\":\"575334852396582591\",\"name\":\"Ftreqah organization\",\"url\":\"https://n22.meraki.com/o/Kpj8kdw/manage/organization/overview\"},{\"id\":\"575334852396582973\",\"name\":\"DevNet Test Org\",\"url\":\"https://n22.meraki.com/o/4ApTKbw/manage/organization/overview\"},{\"id\":\"575334852396582738\",\"name\":\"My organization\",\"url\":\"https://n22.meraki.com/o/wzbgjbw/manage/organization/overview\"},{\"id\":\"575334852396583127\",\"name\":\"trungheo123\",\"url\":\"https://n22.meraki.com/o/Nyn1Gaw/manage/organization/overview\"},{\"id\":\"575334852396583078\",\"name\":\"Meraki Launchpad\",\"url\":\"https://n22.meraki.com/o/W1GI6aw/manage/organization/overview\"},{\"id\":\"575334852396583209\",\"name\":\"My organization\",\"url\":\"https://n22.meraki.com/o/FXlLpdw/manage/organization/overview\"},{\"id\":\"575334852396583158\",\"name\":\"Testlab\",\"url\":\"https://n22.meraki.com/o/AvGDGdw/manage/organization/overview\"},{\"id\":\"575334852396583252\",\"name\":\"yanchen0531\",\"url\":\"https://n22.meraki.com/o/qDB0zcw/manage/organization/overview\"},{\"id\":\"575334852396583241\",\"name\":\"My organi\",\"url\":\"https://n22.meraki.com/o/0cvnOcw/manage/organization/overview\"},{\"id\":\"575334852396583080\",\"name\":\"Meraki Launchpad\",\"url\":\"https://n22.meraki.com/o/OtpLIcw/manage/organization/overview\"},{\"id\":\"575334852396583051\",\"name\":\"trung\",\"url\":\"https://n22.meraki.com/o/4lFkacw/manage/organization/overview\"},{\"id\":\"575334852396583205\",\"name\":\"My organization\",\"url\":\"https://n22.meraki.com/o/WbcYxbw/manage/organization/overview\"},{\"id\":\"575334852396583131\",\"name\":\"thienbao\",\"url\":\"https://n22.meraki.com/o/dADP-cw/manage/organization/overview\"},{\"id\":\"575334852396583129\",\"name\":\"thienbao\",\"url\":\"https://n22.meraki.com/o/2G7Vudw/manage/organization/overview\"},{\"id\":\"575334852396583071\",\"name\":\"PM_Test\",\"url\":\"https://n22.meraki.com/o/lUmuUdw/manage/organization/overview\"},{\"id\":\"575334852396583211\",\"name\":\"My organization\",\"url\":\"https://n22.meraki.com/o/XGt9Jbw/manage/organization/overview\"},{\"id\":\"575334852396583074\",\"name\":\"est_My_Organization\",\"url\":\"https://n22.meraki.com/o/Ldwfidw/manage/organization/overview\"},{\"id\":\"575334852396583210\",\"name\":\"My organization\",\"url\":\"https://n22.meraki.com/o/UOtVNdw/manage/organization/overview\"},{\"id\":\"575334852396583203\",\"name\":\"My organization\",\"url\":\"https://n22.meraki.com/o/tSDYWdw/manage/organization/overview\"},{\"id\":\"575334852396583197\",\"name\":\"The New Org\",\"url\":\"https://n22.meraki.com/o/wXe-Faw/manage/organization/overview\"},{\"id\":\"575334852396583228\",\"name\":\"My organization\",\"url\":\"https://n22.meraki.com/o/x3F7ddw/manage/organization/overview\"},{\"id\":\"575334852396583073\",\"name\":\"ghwerty\",\"url\":\"https://n22.meraki.com/o/J1I4Bbw/manage/organization/overview\"},{\"id\":\"575334852396583066\",\"name\":\"My organization\",\"url\":\"https://n22.meraki.com/o/nN3_Rcw/manage/organization/overview\"},{\"id\":\"575334852396583255\",\"name\":\"My organization\",\"url\":\"https://n22.meraki.com/o/sZsJbcw/manage/organization/overview\"},{\"id\":\"575334852396583246\",\"name\":\"FBECK-TEST\",\"url\":\"https://n22.meraki.com/o/Gpqldaw/manage/organization/overview\"},{\"id\":\"575334852396583199\",\"name\":\"BT Germany\",\"url\":\"https://n22.meraki.com/o/zIExLaw/manage/organization/overview\"},{\"id\":\"575334852396583089\",\"name\":\"nam\",\"url\":\"https://n22.meraki.com/o/Qih5sbw/manage/organization/overview\"},{\"id\":\"575334852396583227\",\"name\":\"My organization\",\"url\":\"https://n22.meraki.com/o/OC0OUcw/manage/organization/overview\"},{\"id\":\"575334852396583068\",\"name\":\"Testing123\",\"url\":\"https://n22.meraki.com/o/3TfLCbw/manage/organization/overview\"},{\"id\":\"575334852396583206\",\"name\":\"My organization\",\"url\":\"https://n22.meraki.com/o/30yoXbw/manage/organization/overview\"},{\"id\":\"865776\",\"name\":\"Cisco Live US 2019\",\"url\":\"https://n22.meraki.com/o/CVQqTb/manage/organization/overview\"},{\"id\":\"575334852396583147\",\"name\":\"My organization\",\"url\":\"https://n22.meraki.com/o/oyvYKbw/manage/organization/overview\"},{\"id\":\"575334852396583064\",\"name\":\"My organization\",\"url\":\"https://n22.meraki.com/o/tY3Cgcw/manage/organization/overview\"},{\"id\":\"575334852396583031\",\"name\":\"My organization\",\"url\":\"https://n22.meraki.com/o/N1e3qdw/manage/organization/overview\"},{\"id\":\"575334852396583157\",\"name\":\"My organization\",\"url\":\"https://n22.meraki.com/o/XKaacdw/manage/organization/overview\"},{\"id\":\"575334852396583079\",\"name\":\"Raygunn Networks\",\"url\":\"https://n22.meraki.com/o/Jeg7Rcw/manage/organization/overview\"},{\"id\":\"575334852396583149\",\"name\":\"g1xOrgTst\",\"url\":\"https://n22.meraki.com/o/7F8Bcaw/manage/organization/overview\"},{\"id\":\"575334852396583207\",\"name\":\"My organization\",\"url\":\"https://n22.meraki.com/o/sbC_Ccw/manage/organization/overview\"},{\"id\":\"575334852396583223\",\"name\":\"EvilCorp\",\"url\":\"https://n22.meraki.com/o/qr16kaw/manage/organization/overview\"},{\"id\":\"575334852396583201\",\"name\":\"My organization\",\"url\":\"https://n22.meraki.com/o/1SMPJdw/manage/organization/overview\"},{\"id\":\"575334852396583088\",\"name\":\"trung\",\"url\":\"https://n22.meraki.com/o/apnSUbw/manage/organization/overview\"},{\"id\":\"575334852396583208\",\"name\":\"BearHoleComputing\",\"url\":\"https://n22.meraki.com/o/5x0wqaw/manage/organization/overview\"},{\"id\":\"575334852396583056\",\"name\":\"My organization\",\"url\":\"https://n22.meraki.com/o/lQeOqcw/manage/organization/overview\"},{\"id\":\"575334852396583155\",\"name\":\"My organization\",\"url\":\"https://n22.meraki.com/o/nTtW2cw/manage/organization/overview\"},{\"id\":\"575334852396583148\",\"name\":\"Mygl\",\"url\":\"https://n22.meraki.com/o/wXlrqaw/manage/organization/overview\"},{\"id\":\"575334852396583091\",\"name\":\"My organization\",\"url\":\"https://n22.meraki.com/o/yRLG_bw/manage/organization/overview\"},{\"id\":\"575334852396583212\",\"name\":\"My organization\",\"url\":\"https://n22.meraki.com/o/10LaTcw/manage/organization/overview\"},{\"id\":\"575334852396583130\",\"name\":\"thienbao\",\"url\":\"https://n22.meraki.com/o/fpNHwdw/manage/organization/overview\"},{\"id\":\"575334852396583247\",\"name\":\"FBECK-TEST\",\"url\":\"https://n22.meraki.com/o/MU-J1bw/manage/organization/overview\"},{\"id\":\"575334852396583065\",\"name\":\"My organization\",\"url\":\"https://n22.meraki.com/o/2sIfCdw/manage/organization/overview\"},{\"id\":\"575334852396583090\",\"name\":\"minhtrung\",\"url\":\"https://n22.meraki.com/o/uViWYcw/manage/organization/overview\"},{\"id\":\"575334852396583134\",\"name\":\"Wotan\",\"url\":\"https://n22.meraki.com/o/U3paXbw/manage/organization/overview\"},{\"id\":\"575334852396583231\",\"name\":\"SWTest\",\"url\":\"https://n22.meraki.com/o/aoQkidw/manage/organization/overview\"},{\"id\":\"575334852396583218\",\"name\":\"My organization\",\"url\":\"https://n22.meraki.com/o/Jsp1Hbw/manage/organization/overview\"},{\"id\":\"575334852396583094\",\"name\":\"hutechdaihoccongnghe\",\"url\":\"https://n22.meraki.com/o/4HhIcbw/manage/organization/overview\"},{\"id\":\"575334852396583202\",\"name\":\"My organization\",\"url\":\"https://n22.meraki.com/o/7F-82bw/manage/organization/overview\"},{\"id\":\"575334852396583200\",\"name\":\"My organization\",\"url\":\"https://n22.meraki.com/o/jfXz9dw/manage/organization/overview\"},{\"id\":\"575334852396583087\",\"name\":\"trung123\",\"url\":\"https://n22.meraki.com/o/mpwmFbw/manage/organization/overview\"},{\"id\":\"575334852396583063\",\"name\":\"My organization\",\"url\":\"https://n22.meraki.com/o/McD_gdw/manage/organization/overview\"},{\"id\":\"575334852396583146\",\"name\":\"My organization\",\"url\":\"https://n22.meraki.com/o/xrjk-bw/manage/organization/overview\"},{\"id\":\"575334852396583220\",\"name\":\"My organization\",\"url\":\"https://n22.meraki.com/o/CvyQCdw/manage/organization/overview\"},{\"id\":\"575334852396583198\",\"name\":\"GigaSchool_PS_Lab\",\"url\":\"https://n22.meraki.com/o/k8EKedw/manage/organization/overview\"},{\"id\":\"575334852396583204\",\"name\":\"My organization\",\"url\":\"https://n22.meraki.com/o/jx92mdw/manage/organization/overview\"},{\"id\":\"575334852396583086\",\"name\":\"hutech123\",\"url\":\"https://n22.meraki.com/o/mp3Oubw/manage/organization/overview\"},{\"id\":\"575334852396583242\",\"name\":\"My organization\",\"url\":\"https://n22.meraki.com/o/nr4Onaw/manage/organization/overview\"},{\"id\":\"575334852396583062\",\"name\":\"Charanya CX labs\",\"url\":\"https://n22.meraki.com/o/xFZ4abw/manage/organization/overview\"},{\"id\":\"575334852396583070\",\"name\":\"My organization\",\"url\":\"https://n22.meraki.com/o/lxY7Daw/manage/organization/overview\"},{\"id\":\"575334852396583244\",\"name\":\"FBECK-TEST\",\"url\":\"https://n22.meraki.com/o/UCsuQdw/manage/organization/overview\"},{\"id\":\"575334852396583240\",\"name\":\"My organization\",\"url\":\"https://n22.meraki.com/o/mE-Yvcw/manage/organization/overview\"},{\"id\":\"573083052582914233\",\"name\":\"Test_org\",\"url\":\"https://n18.meraki.com/o/TY6awbs/manage/organization/overview\"},{\"id\":\"549236\",\"name\":\"DevNet Sandbox\",\"url\":\"https://n149.meraki.com/o/-t35Mb/manage/organization/overview\"},{\"id\":\"52636\",\"name\":\"Forest City - Other\",\"url\":\"https://n42.meraki.com/o/E_utnd/manage/organization/overview\"},{\"id\":\"463308\",\"name\":\"DevNet San Jose\",\"url\":\"https://n18.meraki.com/o/vB2D8a/manage/organization/overview\"},{\"id\":\"566327653141842188\",\"name\":\"DevNetAssoc\",\"url\":\"https://n6.meraki.com/o/dcGsWag/manage/organization/overview\"},{\"id\":\"681155\",\"name\":\"DeLab\",\"url\":\"https://n392.meraki.com/o/49Gm_c/manage/organization/overview\"}]'"
      ]
     },
     "execution_count": 20,
     "metadata": {},
     "output_type": "execute_result"
    }
   ],
   "source": [
    "response.content"
   ]
  },
  {
   "cell_type": "markdown",
   "metadata": {},
   "source": [
    "Examine the content using the JSON method"
   ]
  },
  {
   "cell_type": "code",
   "execution_count": 21,
   "metadata": {},
   "outputs": [
    {
     "data": {
      "text/plain": [
       "[{'id': '575334852396583133',\n",
       "  'name': 'test-test',\n",
       "  'url': 'https://n22.meraki.com/o/NBowlcw/manage/organization/overview'},\n",
       " {'id': '575334852396583219',\n",
       "  'name': 'BibbyTest',\n",
       "  'url': 'https://n22.meraki.com/o/9MLK-dw/manage/organization/overview'},\n",
       " {'id': '575334852396583151',\n",
       "  'name': 'DevnetIT',\n",
       "  'url': 'https://n22.meraki.com/o/er0NZaw/manage/organization/overview'},\n",
       " {'id': '575334852396583213',\n",
       "  'name': '\"New Network\"',\n",
       "  'url': 'https://n22.meraki.com/o/IJQKjbw/manage/organization/overview'},\n",
       " {'id': '575334852396583153',\n",
       "  'name': 'Meraki Test Org',\n",
       "  'url': 'https://n22.meraki.com/o/gE9L-dw/manage/organization/overview'},\n",
       " {'id': '575334852396583128',\n",
       "  'name': 'trungheo',\n",
       "  'url': 'https://n22.meraki.com/o/XjvDBcw/manage/organization/overview'},\n",
       " {'id': '575334852396583243',\n",
       "  'name': 'Test',\n",
       "  'url': 'https://n22.meraki.com/o/lLZoIdw/manage/organization/overview'},\n",
       " {'id': '575334852396583237',\n",
       "  'name': 'Xorg',\n",
       "  'url': 'https://n22.meraki.com/o/ZF92zcw/manage/organization/overview'},\n",
       " {'id': '575334852396583093',\n",
       "  'name': 'The Org',\n",
       "  'url': 'https://n22.meraki.com/o/yotmJcw/manage/organization/overview'},\n",
       " {'id': '575334852396582756',\n",
       "  'name': 'Personal.Lekhnath',\n",
       "  'url': 'https://n22.meraki.com/o/HjSXiaw/manage/organization/overview'},\n",
       " {'id': '575334852396582684',\n",
       "  'name': 'SVR',\n",
       "  'url': 'https://n22.meraki.com/o/rMNradw/manage/organization/overview'},\n",
       " {'id': '575334852396582986',\n",
       "  'name': 'DevNet Test Org',\n",
       "  'url': 'https://n22.meraki.com/o/yZVJIcw/manage/organization/overview'},\n",
       " {'id': '575334852396582755',\n",
       "  'name': 'My organization',\n",
       "  'url': 'https://n22.meraki.com/o/LwDcydw/manage/organization/overview'},\n",
       " {'id': '575334852396583251',\n",
       "  'name': 'yanchennewwww',\n",
       "  'url': 'https://n22.meraki.com/o/7uGP6bw/manage/organization/overview'},\n",
       " {'id': '575334852396582591',\n",
       "  'name': 'Ftreqah organization',\n",
       "  'url': 'https://n22.meraki.com/o/Kpj8kdw/manage/organization/overview'},\n",
       " {'id': '575334852396582973',\n",
       "  'name': 'DevNet Test Org',\n",
       "  'url': 'https://n22.meraki.com/o/4ApTKbw/manage/organization/overview'},\n",
       " {'id': '575334852396582738',\n",
       "  'name': 'My organization',\n",
       "  'url': 'https://n22.meraki.com/o/wzbgjbw/manage/organization/overview'},\n",
       " {'id': '575334852396583127',\n",
       "  'name': 'trungheo123',\n",
       "  'url': 'https://n22.meraki.com/o/Nyn1Gaw/manage/organization/overview'},\n",
       " {'id': '575334852396583078',\n",
       "  'name': 'Meraki Launchpad',\n",
       "  'url': 'https://n22.meraki.com/o/W1GI6aw/manage/organization/overview'},\n",
       " {'id': '575334852396583209',\n",
       "  'name': 'My organization',\n",
       "  'url': 'https://n22.meraki.com/o/FXlLpdw/manage/organization/overview'},\n",
       " {'id': '575334852396583158',\n",
       "  'name': 'Testlab',\n",
       "  'url': 'https://n22.meraki.com/o/AvGDGdw/manage/organization/overview'},\n",
       " {'id': '575334852396583252',\n",
       "  'name': 'yanchen0531',\n",
       "  'url': 'https://n22.meraki.com/o/qDB0zcw/manage/organization/overview'},\n",
       " {'id': '575334852396583241',\n",
       "  'name': 'My organi',\n",
       "  'url': 'https://n22.meraki.com/o/0cvnOcw/manage/organization/overview'},\n",
       " {'id': '575334852396583080',\n",
       "  'name': 'Meraki Launchpad',\n",
       "  'url': 'https://n22.meraki.com/o/OtpLIcw/manage/organization/overview'},\n",
       " {'id': '575334852396583051',\n",
       "  'name': 'trung',\n",
       "  'url': 'https://n22.meraki.com/o/4lFkacw/manage/organization/overview'},\n",
       " {'id': '575334852396583205',\n",
       "  'name': 'My organization',\n",
       "  'url': 'https://n22.meraki.com/o/WbcYxbw/manage/organization/overview'},\n",
       " {'id': '575334852396583131',\n",
       "  'name': 'thienbao',\n",
       "  'url': 'https://n22.meraki.com/o/dADP-cw/manage/organization/overview'},\n",
       " {'id': '575334852396583129',\n",
       "  'name': 'thienbao',\n",
       "  'url': 'https://n22.meraki.com/o/2G7Vudw/manage/organization/overview'},\n",
       " {'id': '575334852396583071',\n",
       "  'name': 'PM_Test',\n",
       "  'url': 'https://n22.meraki.com/o/lUmuUdw/manage/organization/overview'},\n",
       " {'id': '575334852396583211',\n",
       "  'name': 'My organization',\n",
       "  'url': 'https://n22.meraki.com/o/XGt9Jbw/manage/organization/overview'},\n",
       " {'id': '575334852396583074',\n",
       "  'name': 'est_My_Organization',\n",
       "  'url': 'https://n22.meraki.com/o/Ldwfidw/manage/organization/overview'},\n",
       " {'id': '575334852396583210',\n",
       "  'name': 'My organization',\n",
       "  'url': 'https://n22.meraki.com/o/UOtVNdw/manage/organization/overview'},\n",
       " {'id': '575334852396583203',\n",
       "  'name': 'My organization',\n",
       "  'url': 'https://n22.meraki.com/o/tSDYWdw/manage/organization/overview'},\n",
       " {'id': '575334852396583197',\n",
       "  'name': 'The New Org',\n",
       "  'url': 'https://n22.meraki.com/o/wXe-Faw/manage/organization/overview'},\n",
       " {'id': '575334852396583228',\n",
       "  'name': 'My organization',\n",
       "  'url': 'https://n22.meraki.com/o/x3F7ddw/manage/organization/overview'},\n",
       " {'id': '575334852396583073',\n",
       "  'name': 'ghwerty',\n",
       "  'url': 'https://n22.meraki.com/o/J1I4Bbw/manage/organization/overview'},\n",
       " {'id': '575334852396583066',\n",
       "  'name': 'My organization',\n",
       "  'url': 'https://n22.meraki.com/o/nN3_Rcw/manage/organization/overview'},\n",
       " {'id': '575334852396583255',\n",
       "  'name': 'My organization',\n",
       "  'url': 'https://n22.meraki.com/o/sZsJbcw/manage/organization/overview'},\n",
       " {'id': '575334852396583246',\n",
       "  'name': 'FBECK-TEST',\n",
       "  'url': 'https://n22.meraki.com/o/Gpqldaw/manage/organization/overview'},\n",
       " {'id': '575334852396583199',\n",
       "  'name': 'BT Germany',\n",
       "  'url': 'https://n22.meraki.com/o/zIExLaw/manage/organization/overview'},\n",
       " {'id': '575334852396583089',\n",
       "  'name': 'nam',\n",
       "  'url': 'https://n22.meraki.com/o/Qih5sbw/manage/organization/overview'},\n",
       " {'id': '575334852396583227',\n",
       "  'name': 'My organization',\n",
       "  'url': 'https://n22.meraki.com/o/OC0OUcw/manage/organization/overview'},\n",
       " {'id': '575334852396583068',\n",
       "  'name': 'Testing123',\n",
       "  'url': 'https://n22.meraki.com/o/3TfLCbw/manage/organization/overview'},\n",
       " {'id': '575334852396583206',\n",
       "  'name': 'My organization',\n",
       "  'url': 'https://n22.meraki.com/o/30yoXbw/manage/organization/overview'},\n",
       " {'id': '865776',\n",
       "  'name': 'Cisco Live US 2019',\n",
       "  'url': 'https://n22.meraki.com/o/CVQqTb/manage/organization/overview'},\n",
       " {'id': '575334852396583147',\n",
       "  'name': 'My organization',\n",
       "  'url': 'https://n22.meraki.com/o/oyvYKbw/manage/organization/overview'},\n",
       " {'id': '575334852396583064',\n",
       "  'name': 'My organization',\n",
       "  'url': 'https://n22.meraki.com/o/tY3Cgcw/manage/organization/overview'},\n",
       " {'id': '575334852396583031',\n",
       "  'name': 'My organization',\n",
       "  'url': 'https://n22.meraki.com/o/N1e3qdw/manage/organization/overview'},\n",
       " {'id': '575334852396583157',\n",
       "  'name': 'My organization',\n",
       "  'url': 'https://n22.meraki.com/o/XKaacdw/manage/organization/overview'},\n",
       " {'id': '575334852396583079',\n",
       "  'name': 'Raygunn Networks',\n",
       "  'url': 'https://n22.meraki.com/o/Jeg7Rcw/manage/organization/overview'},\n",
       " {'id': '575334852396583149',\n",
       "  'name': 'g1xOrgTst',\n",
       "  'url': 'https://n22.meraki.com/o/7F8Bcaw/manage/organization/overview'},\n",
       " {'id': '575334852396583207',\n",
       "  'name': 'My organization',\n",
       "  'url': 'https://n22.meraki.com/o/sbC_Ccw/manage/organization/overview'},\n",
       " {'id': '575334852396583223',\n",
       "  'name': 'EvilCorp',\n",
       "  'url': 'https://n22.meraki.com/o/qr16kaw/manage/organization/overview'},\n",
       " {'id': '575334852396583201',\n",
       "  'name': 'My organization',\n",
       "  'url': 'https://n22.meraki.com/o/1SMPJdw/manage/organization/overview'},\n",
       " {'id': '575334852396583088',\n",
       "  'name': 'trung',\n",
       "  'url': 'https://n22.meraki.com/o/apnSUbw/manage/organization/overview'},\n",
       " {'id': '575334852396583208',\n",
       "  'name': 'BearHoleComputing',\n",
       "  'url': 'https://n22.meraki.com/o/5x0wqaw/manage/organization/overview'},\n",
       " {'id': '575334852396583056',\n",
       "  'name': 'My organization',\n",
       "  'url': 'https://n22.meraki.com/o/lQeOqcw/manage/organization/overview'},\n",
       " {'id': '575334852396583155',\n",
       "  'name': 'My organization',\n",
       "  'url': 'https://n22.meraki.com/o/nTtW2cw/manage/organization/overview'},\n",
       " {'id': '575334852396583148',\n",
       "  'name': 'Mygl',\n",
       "  'url': 'https://n22.meraki.com/o/wXlrqaw/manage/organization/overview'},\n",
       " {'id': '575334852396583091',\n",
       "  'name': 'My organization',\n",
       "  'url': 'https://n22.meraki.com/o/yRLG_bw/manage/organization/overview'},\n",
       " {'id': '575334852396583212',\n",
       "  'name': 'My organization',\n",
       "  'url': 'https://n22.meraki.com/o/10LaTcw/manage/organization/overview'},\n",
       " {'id': '575334852396583130',\n",
       "  'name': 'thienbao',\n",
       "  'url': 'https://n22.meraki.com/o/fpNHwdw/manage/organization/overview'},\n",
       " {'id': '575334852396583247',\n",
       "  'name': 'FBECK-TEST',\n",
       "  'url': 'https://n22.meraki.com/o/MU-J1bw/manage/organization/overview'},\n",
       " {'id': '575334852396583065',\n",
       "  'name': 'My organization',\n",
       "  'url': 'https://n22.meraki.com/o/2sIfCdw/manage/organization/overview'},\n",
       " {'id': '575334852396583090',\n",
       "  'name': 'minhtrung',\n",
       "  'url': 'https://n22.meraki.com/o/uViWYcw/manage/organization/overview'},\n",
       " {'id': '575334852396583134',\n",
       "  'name': 'Wotan',\n",
       "  'url': 'https://n22.meraki.com/o/U3paXbw/manage/organization/overview'},\n",
       " {'id': '575334852396583231',\n",
       "  'name': 'SWTest',\n",
       "  'url': 'https://n22.meraki.com/o/aoQkidw/manage/organization/overview'},\n",
       " {'id': '575334852396583218',\n",
       "  'name': 'My organization',\n",
       "  'url': 'https://n22.meraki.com/o/Jsp1Hbw/manage/organization/overview'},\n",
       " {'id': '575334852396583094',\n",
       "  'name': 'hutechdaihoccongnghe',\n",
       "  'url': 'https://n22.meraki.com/o/4HhIcbw/manage/organization/overview'},\n",
       " {'id': '575334852396583202',\n",
       "  'name': 'My organization',\n",
       "  'url': 'https://n22.meraki.com/o/7F-82bw/manage/organization/overview'},\n",
       " {'id': '575334852396583200',\n",
       "  'name': 'My organization',\n",
       "  'url': 'https://n22.meraki.com/o/jfXz9dw/manage/organization/overview'},\n",
       " {'id': '575334852396583087',\n",
       "  'name': 'trung123',\n",
       "  'url': 'https://n22.meraki.com/o/mpwmFbw/manage/organization/overview'},\n",
       " {'id': '575334852396583063',\n",
       "  'name': 'My organization',\n",
       "  'url': 'https://n22.meraki.com/o/McD_gdw/manage/organization/overview'},\n",
       " {'id': '575334852396583146',\n",
       "  'name': 'My organization',\n",
       "  'url': 'https://n22.meraki.com/o/xrjk-bw/manage/organization/overview'},\n",
       " {'id': '575334852396583220',\n",
       "  'name': 'My organization',\n",
       "  'url': 'https://n22.meraki.com/o/CvyQCdw/manage/organization/overview'},\n",
       " {'id': '575334852396583198',\n",
       "  'name': 'GigaSchool_PS_Lab',\n",
       "  'url': 'https://n22.meraki.com/o/k8EKedw/manage/organization/overview'},\n",
       " {'id': '575334852396583204',\n",
       "  'name': 'My organization',\n",
       "  'url': 'https://n22.meraki.com/o/jx92mdw/manage/organization/overview'},\n",
       " {'id': '575334852396583086',\n",
       "  'name': 'hutech123',\n",
       "  'url': 'https://n22.meraki.com/o/mp3Oubw/manage/organization/overview'},\n",
       " {'id': '575334852396583242',\n",
       "  'name': 'My organization',\n",
       "  'url': 'https://n22.meraki.com/o/nr4Onaw/manage/organization/overview'},\n",
       " {'id': '575334852396583062',\n",
       "  'name': 'Charanya CX labs',\n",
       "  'url': 'https://n22.meraki.com/o/xFZ4abw/manage/organization/overview'},\n",
       " {'id': '575334852396583070',\n",
       "  'name': 'My organization',\n",
       "  'url': 'https://n22.meraki.com/o/lxY7Daw/manage/organization/overview'},\n",
       " {'id': '575334852396583244',\n",
       "  'name': 'FBECK-TEST',\n",
       "  'url': 'https://n22.meraki.com/o/UCsuQdw/manage/organization/overview'},\n",
       " {'id': '575334852396583240',\n",
       "  'name': 'My organization',\n",
       "  'url': 'https://n22.meraki.com/o/mE-Yvcw/manage/organization/overview'},\n",
       " {'id': '573083052582914233',\n",
       "  'name': 'Test_org',\n",
       "  'url': 'https://n18.meraki.com/o/TY6awbs/manage/organization/overview'},\n",
       " {'id': '549236',\n",
       "  'name': 'DevNet Sandbox',\n",
       "  'url': 'https://n149.meraki.com/o/-t35Mb/manage/organization/overview'},\n",
       " {'id': '52636',\n",
       "  'name': 'Forest City - Other',\n",
       "  'url': 'https://n42.meraki.com/o/E_utnd/manage/organization/overview'},\n",
       " {'id': '463308',\n",
       "  'name': 'DevNet San Jose',\n",
       "  'url': 'https://n18.meraki.com/o/vB2D8a/manage/organization/overview'},\n",
       " {'id': '566327653141842188',\n",
       "  'name': 'DevNetAssoc',\n",
       "  'url': 'https://n6.meraki.com/o/dcGsWag/manage/organization/overview'},\n",
       " {'id': '681155',\n",
       "  'name': 'DeLab',\n",
       "  'url': 'https://n392.meraki.com/o/49Gm_c/manage/organization/overview'}]"
      ]
     },
     "execution_count": 21,
     "metadata": {},
     "output_type": "execute_result"
    }
   ],
   "source": [
    "response.json()"
   ]
  },
  {
   "cell_type": "markdown",
   "metadata": {},
   "source": [
    "You can issue the `dir(response)` command to see the variables and methods returned from the Requests module. Documentation is available at https://requests.readthedocs.io/en/master/ - examine what is available to your program."
   ]
  },
  {
   "cell_type": "code",
   "execution_count": 22,
   "metadata": {},
   "outputs": [
    {
     "data": {
      "text/plain": [
       "'https://api.meraki.com/api/v0/organizations'"
      ]
     },
     "execution_count": 22,
     "metadata": {},
     "output_type": "execute_result"
    }
   ],
   "source": [
    "response.url"
   ]
  },
  {
   "cell_type": "code",
   "execution_count": 23,
   "metadata": {},
   "outputs": [
    {
     "data": {
      "text/plain": [
       "False"
      ]
     },
     "execution_count": 23,
     "metadata": {},
     "output_type": "execute_result"
    }
   ],
   "source": [
    "response.is_redirect"
   ]
  },
  {
   "cell_type": "code",
   "execution_count": 20,
   "metadata": {},
   "outputs": [
    {
     "data": {
      "text/plain": [
       "True"
      ]
     },
     "execution_count": 20,
     "metadata": {},
     "output_type": "execute_result"
    }
   ],
   "source": [
    "response.ok"
   ]
  },
  {
   "cell_type": "markdown",
   "metadata": {},
   "source": [
    "Author: joel.king@wwt.com GitHub/GitLab: @joelwking"
   ]
  },
  {
   "cell_type": "code",
   "execution_count": null,
   "metadata": {},
   "outputs": [],
   "source": []
  }
 ],
 "metadata": {
  "kernelspec": {
   "display_name": "Python 3",
   "language": "python",
   "name": "python3"
  },
  "language_info": {
   "codemirror_mode": {
    "name": "ipython",
    "version": 3
   },
   "file_extension": ".py",
   "mimetype": "text/x-python",
   "name": "python",
   "nbconvert_exporter": "python",
   "pygments_lexer": "ipython3",
   "version": "3.8.10"
  }
 },
 "nbformat": 4,
 "nbformat_minor": 4
}
